{
 "cells": [
  {
   "cell_type": "code",
   "execution_count": 1,
   "metadata": {},
   "outputs": [],
   "source": [
    "import tensorflow as tf\n",
    "from tensorflow import keras\n",
    "import matplotlib.pyplot as plt"
   ]
  },
  {
   "cell_type": "code",
   "execution_count": 2,
   "metadata": {},
   "outputs": [
    {
     "data": {
      "text/plain": [
       "[PhysicalDevice(name='/physical_device:CPU:0', device_type='CPU')]"
      ]
     },
     "execution_count": 2,
     "metadata": {},
     "output_type": "execute_result"
    }
   ],
   "source": [
    "tf.config.experimental.list_physical_devices()"
   ]
  },
  {
   "cell_type": "code",
   "execution_count": 3,
   "metadata": {},
   "outputs": [
    {
     "data": {
      "text/plain": [
       "False"
      ]
     },
     "execution_count": 3,
     "metadata": {},
     "output_type": "execute_result"
    }
   ],
   "source": [
    "tf.test.is_built_with_cuda()"
   ]
  },
  {
   "cell_type": "code",
   "execution_count": 4,
   "metadata": {},
   "outputs": [
    {
     "name": "stdout",
     "output_type": "stream",
     "text": [
      "Downloading data from https://www.cs.toronto.edu/~kriz/cifar-10-python.tar.gz\n",
      "170498071/170498071 [==============================] - 38s 0us/step\n"
     ]
    }
   ],
   "source": [
    "(X_train,y_train),(X_test,y_test)=tf.keras.datasets.cifar10.load_data()"
   ]
  },
  {
   "cell_type": "code",
   "execution_count": 5,
   "metadata": {},
   "outputs": [
    {
     "data": {
      "text/plain": [
       "(50000, 32, 32, 3)"
      ]
     },
     "execution_count": 5,
     "metadata": {},
     "output_type": "execute_result"
    }
   ],
   "source": [
    "X_train.shape"
   ]
  },
  {
   "cell_type": "code",
   "execution_count": 7,
   "metadata": {},
   "outputs": [
    {
     "data": {
      "text/plain": [
       "(50000, 1)"
      ]
     },
     "execution_count": 7,
     "metadata": {},
     "output_type": "execute_result"
    }
   ],
   "source": [
    "y_train.shape"
   ]
  },
  {
   "cell_type": "code",
   "execution_count": 10,
   "metadata": {},
   "outputs": [
    {
     "data": {
      "text/plain": [
       "(32, 32, 3)"
      ]
     },
     "execution_count": 10,
     "metadata": {},
     "output_type": "execute_result"
    }
   ],
   "source": [
    "X_train[0].shape"
   ]
  },
  {
   "cell_type": "code",
   "execution_count": 11,
   "metadata": {},
   "outputs": [
    {
     "data": {
      "text/plain": [
       "<matplotlib.image.AxesImage at 0x1adc1764e20>"
      ]
     },
     "execution_count": 11,
     "metadata": {},
     "output_type": "execute_result"
    },
    {
     "data": {
      "image/png": "[encoded data removed]",
      "text/plain": [
       "<Figure size 480x480 with 1 Axes>"
      ]
     },
     "metadata": {},
     "output_type": "display_data"
    }
   ],
   "source": [
    "plt.matshow(X_train[0])"
   ]
  },
  {
   "cell_type": "code",
   "execution_count": 24,
   "metadata": {},
   "outputs": [],
   "source": [
    "c='airplanes, cars, birds, cats, deer, dogs, frogs, horses, ships, and trucks'\n",
    "classes=c.split(',')\n",
    "classes=[i.strip() for i in classes]\n",
    "classes[9]='trucks'"
   ]
  },
  {
   "cell_type": "code",
   "execution_count": 31,
   "metadata": {},
   "outputs": [
    {
     "data": {
      "text/plain": [
       "array([6], dtype=uint8)"
      ]
     },
     "execution_count": 31,
     "metadata": {},
     "output_type": "execute_result"
    }
   ],
   "source": [
    "y_train[0]"
   ]
  },
  {
   "cell_type": "code",
   "execution_count": 28,
   "metadata": {},
   "outputs": [
    {
     "data": {
      "text/plain": [
       "'frogs'"
      ]
     },
     "execution_count": 28,
     "metadata": {},
     "output_type": "execute_result"
    }
   ],
   "source": [
    "classes[y_train[0][0]]"
   ]
  },
  {
   "cell_type": "code",
   "execution_count": 32,
   "metadata": {},
   "outputs": [],
   "source": [
    "X_train_scaled=X_train/255\n",
    "X_test_scaled=X_test/255"
   ]
  },
  {
   "cell_type": "code",
   "execution_count": 33,
   "metadata": {},
   "outputs": [
    {
     "data": {
      "text/plain": [
       "(50000, 32, 32, 3)"
      ]
     },
     "execution_count": 33,
     "metadata": {},
     "output_type": "execute_result"
    }
   ],
   "source": [
    "X_train_scaled.shape"
   ]
  },
  {
   "cell_type": "code",
   "execution_count": 38,
   "metadata": {},
   "outputs": [],
   "source": [
    "model=keras.Sequential([\n",
    "    keras.layers.Flatten(input_shape=(32,32,3)),\n",
    "    keras.layers.Dense(3000,activation='relu'),\n",
    "    keras.layers.Dense(1000,activation='relu'),\n",
    "    keras.layers.Dense(10,activation='sigmoid')\n",
    "])\n",
    "model.compile(optimizer='SGD',\n",
    "              loss='sparse_categorical_crossentropy',\n",
    "              metrics=['accuracy'])"
   ]
  },
  {
   "cell_type": "code",
   "execution_count": 39,
   "metadata": {},
   "outputs": [
    {
     "name": "stdout",
     "output_type": "stream",
     "text": [
      "Epoch 1/50\n",
      "1563/1563 [==============================] - 80s 51ms/step - loss: 1.8089 - accuracy: 0.3554\n",
      "Epoch 2/50\n",
      "1563/1563 [==============================] - 78s 50ms/step - loss: 1.6214 - accuracy: 0.4280\n",
      "Epoch 3/50\n",
      "1563/1563 [==============================] - 79s 51ms/step - loss: 1.5396 - accuracy: 0.4570\n",
      "Epoch 4/50\n",
      "1563/1563 [==============================] - 79s 51ms/step - loss: 1.4795 - accuracy: 0.4779\n",
      "Epoch 5/50\n",
      "1563/1563 [==============================] - 79s 51ms/step - loss: 1.4276 - accuracy: 0.4992\n",
      "Epoch 6/50\n",
      "1563/1563 [==============================] - 81s 52ms/step - loss: 1.3858 - accuracy: 0.5124\n",
      "Epoch 7/50\n",
      "1563/1563 [==============================] - 80s 51ms/step - loss: 1.3478 - accuracy: 0.5287\n",
      "Epoch 8/50\n",
      "1563/1563 [==============================] - 78s 50ms/step - loss: 1.3147 - accuracy: 0.5375\n",
      "Epoch 9/50\n",
      "1563/1563 [==============================] - 77s 49ms/step - loss: 1.2805 - accuracy: 0.5511\n",
      "Epoch 10/50\n",
      "1563/1563 [==============================] - 80s 51ms/step - loss: 1.2490 - accuracy: 0.5619\n",
      "Epoch 11/50\n",
      "1563/1563 [==============================] - 77s 49ms/step - loss: 1.2217 - accuracy: 0.5708\n",
      "Epoch 12/50\n",
      "1563/1563 [==============================] - 84s 54ms/step - loss: 1.1938 - accuracy: 0.5840\n",
      "Epoch 13/50\n",
      "1563/1563 [==============================] - 84s 53ms/step - loss: 1.1651 - accuracy: 0.5924\n",
      "Epoch 14/50\n",
      "1563/1563 [==============================] - 84s 54ms/step - loss: 1.1390 - accuracy: 0.6044\n",
      "Epoch 15/50\n",
      "1563/1563 [==============================] - 80s 51ms/step - loss: 1.1130 - accuracy: 0.6107\n",
      "Epoch 16/50\n",
      "1563/1563 [==============================] - 79s 50ms/step - loss: 1.0868 - accuracy: 0.6223\n",
      "Epoch 17/50\n",
      "1563/1563 [==============================] - 77s 49ms/step - loss: 1.0628 - accuracy: 0.6290\n",
      "Epoch 18/50\n",
      "1563/1563 [==============================] - 80s 51ms/step - loss: 1.0334 - accuracy: 0.6416\n",
      "Epoch 19/50\n",
      "1563/1563 [==============================] - 87s 56ms/step - loss: 1.0061 - accuracy: 0.6502\n",
      "Epoch 20/50\n",
      "1563/1563 [==============================] - 87s 55ms/step - loss: 0.9822 - accuracy: 0.6579\n",
      "Epoch 21/50\n",
      "1563/1563 [==============================] - 76s 49ms/step - loss: 0.9554 - accuracy: 0.6679\n",
      "Epoch 22/50\n",
      "1563/1563 [==============================] - 71s 46ms/step - loss: 0.9294 - accuracy: 0.6793\n",
      "Epoch 23/50\n",
      "1563/1563 [==============================] - 71s 45ms/step - loss: 0.9090 - accuracy: 0.6856\n",
      "Epoch 24/50\n",
      "1563/1563 [==============================] - 71s 45ms/step - loss: 0.8832 - accuracy: 0.6961\n",
      "Epoch 25/50\n",
      "1563/1563 [==============================] - 70s 45ms/step - loss: 0.8548 - accuracy: 0.7064\n",
      "Epoch 26/50\n",
      "1563/1563 [==============================] - 76s 49ms/step - loss: 0.8289 - accuracy: 0.7159\n",
      "Epoch 27/50\n",
      "1563/1563 [==============================] - 74s 47ms/step - loss: 0.8047 - accuracy: 0.7230\n",
      "Epoch 28/50\n",
      "1563/1563 [==============================] - 68s 43ms/step - loss: 0.7799 - accuracy: 0.7314\n",
      "Epoch 29/50\n",
      "1563/1563 [==============================] - 70s 45ms/step - loss: 0.7554 - accuracy: 0.7429\n",
      "Epoch 30/50\n",
      "1563/1563 [==============================] - 71s 45ms/step - loss: 0.7313 - accuracy: 0.7499\n",
      "Epoch 31/50\n",
      "1563/1563 [==============================] - 68s 43ms/step - loss: 0.7074 - accuracy: 0.7573\n",
      "Epoch 32/50\n",
      "1563/1563 [==============================] - 67s 43ms/step - loss: 0.6840 - accuracy: 0.7675\n",
      "Epoch 33/50\n",
      "1563/1563 [==============================] - 71s 45ms/step - loss: 0.6571 - accuracy: 0.7773\n",
      "Epoch 34/50\n",
      "1563/1563 [==============================] - 69s 44ms/step - loss: 0.6325 - accuracy: 0.7859\n",
      "Epoch 35/50\n",
      "1563/1563 [==============================] - 68s 44ms/step - loss: 0.6124 - accuracy: 0.7954\n",
      "Epoch 36/50\n",
      "1563/1563 [==============================] - 69s 44ms/step - loss: 0.5857 - accuracy: 0.8030\n",
      "Epoch 37/50\n",
      "1563/1563 [==============================] - 69s 44ms/step - loss: 0.5626 - accuracy: 0.8116\n",
      "Epoch 38/50\n",
      "1563/1563 [==============================] - 67s 43ms/step - loss: 0.5395 - accuracy: 0.8221\n",
      "Epoch 39/50\n",
      "1563/1563 [==============================] - 67s 43ms/step - loss: 0.5194 - accuracy: 0.8285\n",
      "Epoch 40/50\n",
      "1563/1563 [==============================] - 68s 43ms/step - loss: 0.4936 - accuracy: 0.8385\n",
      "Epoch 41/50\n",
      "1563/1563 [==============================] - 68s 44ms/step - loss: 0.4739 - accuracy: 0.8433\n",
      "Epoch 42/50\n",
      "1563/1563 [==============================] - 69s 44ms/step - loss: 0.4499 - accuracy: 0.8542\n",
      "Epoch 43/50\n",
      "1563/1563 [==============================] - 69s 44ms/step - loss: 0.4308 - accuracy: 0.8601\n",
      "Epoch 44/50\n",
      "1563/1563 [==============================] - 72s 46ms/step - loss: 0.4090 - accuracy: 0.8700\n",
      "Epoch 45/50\n",
      "1563/1563 [==============================] - 72s 46ms/step - loss: 0.3905 - accuracy: 0.8765\n",
      "Epoch 46/50\n",
      "1563/1563 [==============================] - 77s 49ms/step - loss: 0.3695 - accuracy: 0.8841\n",
      "Epoch 47/50\n",
      "1563/1563 [==============================] - 72s 46ms/step - loss: 0.3508 - accuracy: 0.8910\n",
      "Epoch 48/50\n",
      "1563/1563 [==============================] - 72s 46ms/step - loss: 0.3363 - accuracy: 0.8963\n",
      "Epoch 49/50\n",
      "1563/1563 [==============================] - 69s 44ms/step - loss: 0.3173 - accuracy: 0.9026\n",
      "Epoch 50/50\n",
      "1563/1563 [==============================] - 69s 44ms/step - loss: 0.2992 - accuracy: 0.9080\n"
     ]
    },
    {
     "data": {
      "text/plain": [
       "<keras.callbacks.History at 0x1ae1ba95070>"
      ]
     },
     "execution_count": 39,
     "metadata": {},
     "output_type": "execute_result"
    }
   ],
   "source": [
    "model.fit(X_train_scaled,y_train,epochs=50)"
   ]
  },
  {
   "cell_type": "code",
   "execution_count": 40,
   "metadata": {},
   "outputs": [
    {
     "name": "stdout",
     "output_type": "stream",
     "text": [
      "313/313 [==============================] - 5s 14ms/step - loss: 452.3618 - accuracy: 0.4861\n"
     ]
    },
    {
     "data": {
      "text/plain": [
       "[452.3618469238281, 0.4860999882221222]"
      ]
     },
     "execution_count": 40,
     "metadata": {},
     "output_type": "execute_result"
    }
   ],
   "source": [
    "model.evaluate(X_test,y_test)"
   ]
  },
  {
   "cell_type": "code",
   "execution_count": 46,
   "metadata": {},
   "outputs": [],
   "source": [
    "probability_model = tf.keras.Sequential([model, \n",
    "                                         tf.keras.layers.Softmax()])"
   ]
  },
  {
   "cell_type": "code",
   "execution_count": 49,
   "metadata": {},
   "outputs": [
    {
     "name": "stdout",
     "output_type": "stream",
     "text": [
      "313/313 [==============================] - 4s 13ms/step\n"
     ]
    }
   ],
   "source": [
    "predictions = probability_model.predict(X_test_scaled)\n"
   ]
  },
  {
   "cell_type": "code",
   "execution_count": 53,
   "metadata": {},
   "outputs": [
    {
     "data": {
      "text/plain": [
       "'cats'"
      ]
     },
     "execution_count": 53,
     "metadata": {},
     "output_type": "execute_result"
    }
   ],
   "source": [
    "import numpy as np\n",
    "\n",
    "print(classes[np.argmax(predictions[0])])\n",
    "classes[y_test[0][0]]"
   ]
  },
  {
   "cell_type": "code",
   "execution_count": 56,
   "metadata": {},
   "outputs": [
    {
     "data": {
      "text/plain": [
       "'cats'"
      ]
     },
     "execution_count": 56,
     "metadata": {},
     "output_type": "execute_result"
    }
   ],
   "source": [
    "classes[y_test[0][0]]"
   ]
  },
  {
   "cell_type": "code",
   "execution_count": 57,
   "metadata": {},
   "outputs": [
    {
     "name": "stdout",
     "output_type": "stream",
     "text": [
      "ships\n"
     ]
    },
    {
     "data": {
      "text/plain": [
       "'ships'"
      ]
     },
     "execution_count": 57,
     "metadata": {},
     "output_type": "execute_result"
    }
   ],
   "source": [
    "print(classes[np.argmax(predictions[1])])\n",
    "classes[y_test[1][0]]"
   ]
  },
  {
   "cell_type": "code",
   "execution_count": 58,
   "metadata": {},
   "outputs": [
    {
     "name": "stdout",
     "output_type": "stream",
     "text": [
      "cars\n"
     ]
    },
    {
     "data": {
      "text/plain": [
       "'ships'"
      ]
     },
     "execution_count": 58,
     "metadata": {},
     "output_type": "execute_result"
    }
   ],
   "source": [
    "print(classes[np.argmax(predictions[2])])\n",
    "classes[y_test[2][0]]"
   ]
  },
  {
   "cell_type": "code",
   "execution_count": 59,
   "metadata": {},
   "outputs": [
    {
     "name": "stdout",
     "output_type": "stream",
     "text": [
      "ships\n"
     ]
    },
    {
     "data": {
      "text/plain": [
       "'airplanes'"
      ]
     },
     "execution_count": 59,
     "metadata": {},
     "output_type": "execute_result"
    }
   ],
   "source": [
    "print(classes[np.argmax(predictions[3])])\n",
    "classes[y_test[3][0]]"
   ]
  },
  {
   "cell_type": "code",
   "execution_count": 60,
   "metadata": {},
   "outputs": [
    {
     "name": "stdout",
     "output_type": "stream",
     "text": [
      "deer\n"
     ]
    },
    {
     "data": {
      "text/plain": [
       "'frogs'"
      ]
     },
     "execution_count": 60,
     "metadata": {},
     "output_type": "execute_result"
    }
   ],
   "source": [
    "print(classes[np.argmax(predictions[4])])\n",
    "classes[y_test[4][0]]"
   ]
  },
  {
   "cell_type": "code",
   "execution_count": 63,
   "metadata": {},
   "outputs": [
    {
     "name": "stdout",
     "output_type": "stream",
     "text": [
      "cats\tcats\n",
      "ships\tships\n",
      "cars\tships\n",
      "ships\tairplanes\n",
      "deer\tfrogs\n",
      "frogs\tfrogs\n",
      "cars\tcars\n",
      "frogs\tfrogs\n",
      "cats\tcats\n",
      "cars\tcars\n"
     ]
    }
   ],
   "source": [
    "for i in range(10):\n",
    "    print(classes[np.argmax(predictions[i])],end='\\t')\n",
    "    print(classes[y_test[i][0]])"
   ]
  },
  {
   "cell_type": "code",
   "execution_count": 66,
   "metadata": {},
   "outputs": [
    {
     "name": "stdout",
     "output_type": "stream",
     "text": [
      "313/313 [==============================] - 4s 14ms/step\n"
     ]
    },
    {
     "data": {
      "text/plain": [
       "3"
      ]
     },
     "execution_count": 66,
     "metadata": {},
     "output_type": "execute_result"
    }
   ],
   "source": [
    "np.argmax(model.predict(X_test_scaled)[0])"
   ]
  },
  {
   "cell_type": "code",
   "execution_count": 70,
   "metadata": {},
   "outputs": [
    {
     "data": {
      "text/plain": [
       "(32, 32, 3)"
      ]
     },
     "execution_count": 70,
     "metadata": {},
     "output_type": "execute_result"
    }
   ],
   "source": [
    "X_test_scaled[0].shape"
   ]
  },
  {
   "cell_type": "code",
   "execution_count": null,
   "metadata": {},
   "outputs": [],
   "source": []
  }
 ],
 "metadata": {
  "kernelspec": {
   "display_name": "base",
   "language": "python",
   "name": "python3"
  },
  "language_info": {
   "codemirror_mode": {
    "name": "ipython",
    "version": 3
   },
   "file_extension": ".py",
   "mimetype": "text/x-python",
   "name": "python",
   "nbconvert_exporter": "python",
   "pygments_lexer": "ipython3",
   "version": "3.9.15"
  },
  "orig_nbformat": 4
 },
 "nbformat": 4,
 "nbformat_minor": 2
}
