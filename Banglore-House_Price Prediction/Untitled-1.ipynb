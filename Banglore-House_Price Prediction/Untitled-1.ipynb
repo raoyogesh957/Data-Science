{
 "cells": [
  {
   "cell_type": "code",
   "execution_count": 24,
   "metadata": {},
   "outputs": [
    {
     "name": "stdout",
     "output_type": "stream",
     "text": [
      "[1, 2, 3, 1, 2, 3]\n",
      "[1, 2, 3, 1, 2, 3]\n"
     ]
    }
   ],
   "source": [
    "lis=[1,2,3]\n",
    "def func(lis):\n",
    "    lis.extend([1,2,3])\n",
    "    print(lis)\n",
    "func(lis)\n",
    "print(lis)"
   ]
  },
  {
   "cell_type": "code",
   "execution_count": 1,
   "metadata": {},
   "outputs": [
    {
     "name": "stdout",
     "output_type": "stream",
     "text": [
      "Requirement already satisfied: flask in c:\\users\\yogesh yadav\\anaconda3\\lib\\site-packages (1.1.2)\n",
      "Requirement already satisfied: Jinja2>=2.10.1 in c:\\users\\yogesh yadav\\anaconda3\\lib\\site-packages (from flask) (2.11.3)\n",
      "Requirement already satisfied: click>=5.1 in c:\\users\\yogesh yadav\\anaconda3\\lib\\site-packages (from flask) (8.0.4)\n",
      "Requirement already satisfied: Werkzeug>=0.15 in c:\\users\\yogesh yadav\\anaconda3\\lib\\site-packages (from flask) (2.0.3)\n",
      "Requirement already satisfied: itsdangerous>=0.24 in c:\\users\\yogesh yadav\\anaconda3\\lib\\site-packages (from flask) (2.0.1)\n",
      "Requirement already satisfied: colorama in c:\\users\\yogesh yadav\\anaconda3\\lib\\site-packages (from click>=5.1->flask) (0.4.5)\n",
      "Requirement already satisfied: MarkupSafe>=0.23 in c:\\users\\yogesh yadav\\anaconda3\\lib\\site-packages (from Jinja2>=2.10.1->flask) (2.0.1)\n"
     ]
    }
   ],
   "source": [
    "! pip install flask"
   ]
  },
  {
   "cell_type": "code",
   "execution_count": 5,
   "metadata": {},
   "outputs": [
    {
     "data": {
      "text/plain": [
       "[1, 2, 3, 1, 2, 3]"
      ]
     },
     "execution_count": 5,
     "metadata": {},
     "output_type": "execute_result"
    }
   ],
   "source": [
    "lis"
   ]
  },
  {
   "cell_type": "code",
   "execution_count": 2,
   "metadata": {},
   "outputs": [
    {
     "name": "stdout",
     "output_type": "stream",
     "text": [
      " * Serving Flask app \"__main__\" (lazy loading)\n",
      " * Environment: production\n",
      "\u001b[31m   WARNING: This is a development server. Do not use it in a production deployment.\u001b[0m\n",
      "\u001b[2m   Use a production WSGI server instead.\u001b[0m\n",
      " * Debug mode: off\n"
     ]
    },
    {
     "name": "stderr",
     "output_type": "stream",
     "text": [
      " * Running on http://127.0.0.1:5000/ (Press CTRL+C to quit)\n"
     ]
    }
   ],
   "source": [
    "from flask import Flask, render_template, request\n",
    "\n",
    "app = Flask(__name__)\n",
    "\n",
    "\n",
    "@app.route('/form')\n",
    "def form():\n",
    "    return render_template('form.html')\n",
    "\n",
    "\n",
    "@app.route('/data/', methods=['POST', 'GET'])\n",
    "def data():\n",
    "    if request.method == 'GET':\n",
    "        return f\"The URL /data is accessed directly. Try going to '/form' to submit form\"\n",
    "    if request.method == 'POST':\n",
    "        form_data = request.form\n",
    "        return render_template('data.html', form_data=form_data)\n",
    "\n",
    "\n",
    "app.run()"
   ]
  },
  {
   "cell_type": "code",
   "execution_count": 5,
   "metadata": {},
   "outputs": [
    {
     "name": "stdout",
     "output_type": "stream",
     "text": [
      " * Serving Flask app \"__main__\" (lazy loading)\n",
      " * Environment: production\n",
      "\u001b[31m   WARNING: This is a development server. Do not use it in a production deployment.\u001b[0m\n",
      "\u001b[2m   Use a production WSGI server instead.\u001b[0m\n",
      " * Debug mode: off\n"
     ]
    },
    {
     "name": "stderr",
     "output_type": "stream",
     "text": [
      " * Running on http://127.0.0.1:3000/ (Press CTRL+C to quit)\n",
      "[2023-05-27 12:49:31,617] ERROR in app: Exception on / [GET]\n",
      "Traceback (most recent call last):\n",
      "  File \"c:\\Users\\Yogesh Yadav\\anaconda3\\lib\\site-packages\\flask\\app.py\", line 2447, in wsgi_app\n",
      "    response = self.full_dispatch_request()\n",
      "  File \"c:\\Users\\Yogesh Yadav\\anaconda3\\lib\\site-packages\\flask\\app.py\", line 1952, in full_dispatch_request\n",
      "    rv = self.handle_user_exception(e)\n",
      "  File \"c:\\Users\\Yogesh Yadav\\anaconda3\\lib\\site-packages\\flask\\app.py\", line 1821, in handle_user_exception\n",
      "    reraise(exc_type, exc_value, tb)\n",
      "  File \"c:\\Users\\Yogesh Yadav\\anaconda3\\lib\\site-packages\\flask\\_compat.py\", line 39, in reraise\n",
      "    raise value\n",
      "  File \"c:\\Users\\Yogesh Yadav\\anaconda3\\lib\\site-packages\\flask\\app.py\", line 1950, in full_dispatch_request\n",
      "    rv = self.dispatch_request()\n",
      "  File \"c:\\Users\\Yogesh Yadav\\anaconda3\\lib\\site-packages\\flask\\app.py\", line 1936, in dispatch_request\n",
      "    return self.view_functions[rule.endpoint](**req.view_args)\n",
      "  File \"C:\\Users\\Yogesh Yadav\\AppData\\Local\\Temp\\ipykernel_13576\\4045822202.py\", line 16, in gfg\n",
      "    return render_template(\"form.html\")\n",
      "  File \"c:\\Users\\Yogesh Yadav\\anaconda3\\lib\\site-packages\\flask\\templating.py\", line 138, in render_template\n",
      "    ctx.app.jinja_env.get_or_select_template(template_name_or_list),\n",
      "  File \"c:\\Users\\Yogesh Yadav\\anaconda3\\lib\\site-packages\\jinja2\\environment.py\", line 930, in get_or_select_template\n",
      "    return self.get_template(template_name_or_list, parent, globals)\n",
      "  File \"c:\\Users\\Yogesh Yadav\\anaconda3\\lib\\site-packages\\jinja2\\environment.py\", line 883, in get_template\n",
      "    return self._load_template(name, self.make_globals(globals))\n",
      "  File \"c:\\Users\\Yogesh Yadav\\anaconda3\\lib\\site-packages\\jinja2\\environment.py\", line 857, in _load_template\n",
      "    template = self.loader.load(self, name, globals)\n",
      "  File \"c:\\Users\\Yogesh Yadav\\anaconda3\\lib\\site-packages\\jinja2\\loaders.py\", line 115, in load\n",
      "    source, filename, uptodate = self.get_source(environment, name)\n",
      "  File \"c:\\Users\\Yogesh Yadav\\anaconda3\\lib\\site-packages\\flask\\templating.py\", line 60, in get_source\n",
      "    return self._get_source_fast(environment, template)\n",
      "  File \"c:\\Users\\Yogesh Yadav\\anaconda3\\lib\\site-packages\\flask\\templating.py\", line 89, in _get_source_fast\n",
      "    raise TemplateNotFound(template)\n",
      "jinja2.exceptions.TemplateNotFound: form.html\n",
      "127.0.0.1 - - [27/May/2023 12:49:31] \"GET / HTTP/1.1\" 500 -\n",
      "127.0.0.1 - - [27/May/2023 12:49:32] \"GET /favicon.ico HTTP/1.1\" 404 -\n",
      "[2023-05-27 12:49:35,459] ERROR in app: Exception on / [GET]\n",
      "Traceback (most recent call last):\n",
      "  File \"c:\\Users\\Yogesh Yadav\\anaconda3\\lib\\site-packages\\flask\\app.py\", line 2447, in wsgi_app\n",
      "    response = self.full_dispatch_request()\n",
      "  File \"c:\\Users\\Yogesh Yadav\\anaconda3\\lib\\site-packages\\flask\\app.py\", line 1952, in full_dispatch_request\n",
      "    rv = self.handle_user_exception(e)\n",
      "  File \"c:\\Users\\Yogesh Yadav\\anaconda3\\lib\\site-packages\\flask\\app.py\", line 1821, in handle_user_exception\n",
      "    reraise(exc_type, exc_value, tb)\n",
      "  File \"c:\\Users\\Yogesh Yadav\\anaconda3\\lib\\site-packages\\flask\\_compat.py\", line 39, in reraise\n",
      "    raise value\n",
      "  File \"c:\\Users\\Yogesh Yadav\\anaconda3\\lib\\site-packages\\flask\\app.py\", line 1950, in full_dispatch_request\n",
      "    rv = self.dispatch_request()\n",
      "  File \"c:\\Users\\Yogesh Yadav\\anaconda3\\lib\\site-packages\\flask\\app.py\", line 1936, in dispatch_request\n",
      "    return self.view_functions[rule.endpoint](**req.view_args)\n",
      "  File \"C:\\Users\\Yogesh Yadav\\AppData\\Local\\Temp\\ipykernel_13576\\4045822202.py\", line 16, in gfg\n",
      "    return render_template(\"form.html\")\n",
      "  File \"c:\\Users\\Yogesh Yadav\\anaconda3\\lib\\site-packages\\flask\\templating.py\", line 138, in render_template\n",
      "    ctx.app.jinja_env.get_or_select_template(template_name_or_list),\n",
      "  File \"c:\\Users\\Yogesh Yadav\\anaconda3\\lib\\site-packages\\jinja2\\environment.py\", line 930, in get_or_select_template\n",
      "    return self.get_template(template_name_or_list, parent, globals)\n",
      "  File \"c:\\Users\\Yogesh Yadav\\anaconda3\\lib\\site-packages\\jinja2\\environment.py\", line 883, in get_template\n",
      "    return self._load_template(name, self.make_globals(globals))\n",
      "  File \"c:\\Users\\Yogesh Yadav\\anaconda3\\lib\\site-packages\\jinja2\\environment.py\", line 857, in _load_template\n",
      "    template = self.loader.load(self, name, globals)\n",
      "  File \"c:\\Users\\Yogesh Yadav\\anaconda3\\lib\\site-packages\\jinja2\\loaders.py\", line 115, in load\n",
      "    source, filename, uptodate = self.get_source(environment, name)\n",
      "  File \"c:\\Users\\Yogesh Yadav\\anaconda3\\lib\\site-packages\\flask\\templating.py\", line 60, in get_source\n",
      "    return self._get_source_fast(environment, template)\n",
      "  File \"c:\\Users\\Yogesh Yadav\\anaconda3\\lib\\site-packages\\flask\\templating.py\", line 89, in _get_source_fast\n",
      "    raise TemplateNotFound(template)\n",
      "jinja2.exceptions.TemplateNotFound: form.html\n",
      "127.0.0.1 - - [27/May/2023 12:49:35] \"GET / HTTP/1.1\" 500 -\n",
      "127.0.0.1 - - [27/May/2023 12:49:45] \"GET /route HTTP/1.1\" 404 -\n"
     ]
    }
   ],
   "source": [
    "from flask import Flask, request, render_template\n",
    " \n",
    "# Flask constructor\n",
    "app = Flask(__name__)  \n",
    " \n",
    "# A decorator used to tell the application\n",
    "# which URL is associated function\n",
    "@app.route('/', methods =[\"GET\", \"POST\"])\n",
    "def gfg():\n",
    "    if request.method == \"POST\":\n",
    "       # getting input with name = fname in HTML form\n",
    "       first_name = request.form.get(\"fname\")\n",
    "       # getting input with name = lname in HTML form\n",
    "       last_name = request.form.get(\"lname\")\n",
    "       return \"Your name is \"+first_name + last_name\n",
    "    return render_template(\"form.html\")\n",
    " \n",
    "if __name__=='__main__':\n",
    "   app.run(port=3000)"
   ]
  },
  {
   "cell_type": "code",
   "execution_count": 25,
   "metadata": {},
   "outputs": [],
   "source": [
    "from itertools import permutations "
   ]
  },
  {
   "cell_type": "code",
   "execution_count": 46,
   "metadata": {},
   "outputs": [
    {
     "name": "stdout",
     "output_type": "stream",
     "text": [
      "(0, 0, 0)\n",
      "(0, 0, 1)\n",
      "(0, 0, 2)\n",
      "(0, 0, 3)\n",
      "(0, 0, 4)\n",
      "(0, 1, 1)\n",
      "(0, 1, 2)\n",
      "(0, 1, 3)\n",
      "(0, 1, 4)\n",
      "(0, 2, 2)\n",
      "(0, 2, 3)\n",
      "(0, 2, 4)\n",
      "(0, 3, 3)\n",
      "(0, 3, 4)\n",
      "(0, 4, 4)\n",
      "(1, 1, 1)\n",
      "(1, 1, 2)\n",
      "(1, 1, 3)\n",
      "(1, 1, 4)\n",
      "(1, 2, 2)\n",
      "(1, 2, 3)\n",
      "(1, 2, 4)\n",
      "(1, 3, 3)\n",
      "(1, 3, 4)\n",
      "(1, 4, 4)\n",
      "(2, 2, 2)\n",
      "(2, 2, 3)\n",
      "(2, 2, 4)\n",
      "(2, 3, 3)\n",
      "(2, 3, 4)\n",
      "(2, 4, 4)\n",
      "(3, 3, 3)\n",
      "(3, 3, 4)\n",
      "(3, 4, 4)\n",
      "(4, 4, 4)\n"
     ]
    }
   ],
   "source": [
    "for i in combinations_with_replacement(range(5),3):\n",
    "    print(i)"
   ]
  },
  {
   "cell_type": "code",
   "execution_count": 45,
   "metadata": {},
   "outputs": [],
   "source": [
    "from itertools import combinations_with_replacement\n"
   ]
  },
  {
   "cell_type": "code",
   "execution_count": 56,
   "metadata": {},
   "outputs": [
    {
     "data": {
      "text/plain": [
       "60"
      ]
     },
     "execution_count": 56,
     "metadata": {},
     "output_type": "execute_result"
    }
   ],
   "source": [
    "len([i for i in permutations(range(5),3)])\n",
    "    "
   ]
  },
  {
   "cell_type": "code",
   "execution_count": null,
   "metadata": {},
   "outputs": [],
   "source": [
    "len([i for i in permutations_with_repla(range(5),3)])"
   ]
  },
  {
   "cell_type": "code",
   "execution_count": 104,
   "metadata": {},
   "outputs": [
    {
     "data": {
      "text/plain": [
       "array([0.00224809, 0.04473873, 0.29677827, 0.65623491])"
      ]
     },
     "execution_count": 104,
     "metadata": {},
     "output_type": "execute_result"
    }
   ],
   "source": [
    "from scipy.stats import binom\n",
    "import numpy as np\n",
    "n=3\n",
    "p=0.869\n",
    "k=np.arange(4)\n",
    "p=binom.pmf(k,n,p)\n",
    "p"
   ]
  },
  {
   "cell_type": "code",
   "execution_count": 107,
   "metadata": {},
   "outputs": [
    {
     "data": {
      "text/plain": [
       "0.3437650910000001"
      ]
     },
     "execution_count": 107,
     "metadata": {},
     "output_type": "execute_result"
    }
   ],
   "source": [
    "sum(p[:3])"
   ]
  },
  {
   "cell_type": "code",
   "execution_count": 115,
   "metadata": {},
   "outputs": [
    {
     "data": {
      "text/plain": [
       "0.34376509099999997"
      ]
     },
     "execution_count": 115,
     "metadata": {},
     "output_type": "execute_result"
    }
   ],
   "source": [
    "a=binom.cdf(2,3,0.869)\n",
    "a"
   ]
  },
  {
   "cell_type": "code",
   "execution_count": 75,
   "metadata": {},
   "outputs": [
    {
     "name": "stdout",
     "output_type": "stream",
     "text": [
      "Yogesh 6\n"
     ]
    }
   ],
   "source": [
    "a*args,**kargs):\n",
    "    s=0\n",
    "    for i in args:\n",
    "        s+=i\n",
    "    print(kargs['Name'],s)\n",
    "add(1,2,3 , Name='Yogesh')    \n"
   ]
  },
  {
   "cell_type": "code",
   "execution_count": 82,
   "metadata": {},
   "outputs": [
    {
     "data": {
      "text/plain": [
       "array([0, 1, 2])"
      ]
     },
     "execution_count": 82,
     "metadata": {},
     "output_type": "execute_result"
    }
   ],
   "source": [
    "k=np.arange(3)\n",
    "k"
   ]
  },
  {
   "cell_type": "code",
   "execution_count": 76,
   "metadata": {},
   "outputs": [
    {
     "data": {
      "text/plain": [
       "[1, 2, 3, 4, 5, 6]"
      ]
     },
     "execution_count": 76,
     "metadata": {},
     "output_type": "execute_result"
    }
   ],
   "source": [
    "a=[1,2,3]\n",
    "b=[4,5,6]\n",
    "a+b"
   ]
  },
  {
   "cell_type": "code",
   "execution_count": 118,
   "metadata": {},
   "outputs": [
    {
     "data": {
      "text/plain": [
       "array([0.0407622 , 0.13043905, 0.20870248, 0.22261598, 0.17809279,\n",
       "       0.11397938])"
      ]
     },
     "execution_count": 118,
     "metadata": {},
     "output_type": "execute_result"
    }
   ],
   "source": [
    "from scipy.stats import poisson\n",
    "k=np.arange(6)\n",
    "rate=3.2\n",
    "poisson.pmf(k,rate)"
   ]
  },
  {
   "cell_type": "code",
   "execution_count": 2,
   "metadata": {},
   "outputs": [
    {
     "name": "stdout",
     "output_type": "stream",
     "text": [
      "Collecting sketchpy\n",
      "  Downloading sketchpy-0.1.0-py3-none-any.whl (61 kB)\n",
      "     ---------------------------------------- 62.0/62.0 kB 3.4 MB/s eta 0:00:00\n",
      "Collecting svgpathtools\n",
      "  Downloading svgpathtools-1.6.1-py2.py3-none-any.whl (67 kB)\n",
      "     ---------------------------------------- 67.4/67.4 kB ? eta 0:00:00\n",
      "Collecting svg.path\n",
      "  Downloading svg.path-6.3-py2.py3-none-any.whl (16 kB)\n",
      "Requirement already satisfied: Pillow in c:\\users\\yogesh yadav\\anaconda3\\lib\\site-packages (from sketchpy) (9.2.0)\n",
      "Requirement already satisfied: wheel in c:\\users\\yogesh yadav\\anaconda3\\lib\\site-packages (from sketchpy) (0.37.1)\n",
      "Requirement already satisfied: opencv-python in c:\\users\\yogesh yadav\\anaconda3\\lib\\site-packages (from sketchpy) (4.7.0.72)\n",
      "Requirement already satisfied: tqdm in c:\\users\\yogesh yadav\\anaconda3\\lib\\site-packages (from sketchpy) (4.64.1)\n",
      "Collecting turtle==0.0.1\n",
      "  Downloading turtle-0.0.1.tar.gz (10 kB)\n",
      "  Preparing metadata (setup.py): started\n",
      "  Preparing metadata (setup.py): finished with status 'done'\n",
      "Requirement already satisfied: PyYAML>=3.08 in c:\\users\\yogesh yadav\\anaconda3\\lib\\site-packages (from turtle==0.0.1->sketchpy) (6.0)\n",
      "Requirement already satisfied: numpy>=1.19.3 in c:\\users\\yogesh yadav\\anaconda3\\lib\\site-packages (from opencv-python->sketchpy) (1.21.5)\n",
      "Requirement already satisfied: scipy in c:\\users\\yogesh yadav\\anaconda3\\lib\\site-packages (from svgpathtools->sketchpy) (1.9.3)\n",
      "Collecting svgwrite\n",
      "  Downloading svgwrite-1.4.3-py3-none-any.whl (67 kB)\n",
      "     ---------------------------------------- 67.1/67.1 kB ? eta 0:00:00\n",
      "Requirement already satisfied: colorama in c:\\users\\yogesh yadav\\anaconda3\\lib\\site-packages (from tqdm->sketchpy) (0.4.5)\n",
      "Building wheels for collected packages: turtle\n",
      "  Building wheel for turtle (setup.py): started\n",
      "  Building wheel for turtle (setup.py): finished with status 'done'\n",
      "  Created wheel for turtle: filename=turtle-0.0.1-py3-none-any.whl size=22185 sha256=80f8c77268d56b2470f33836d230b915a998c6a63b42af15e0c3925ae2f4c50b\n",
      "  Stored in directory: c:\\users\\yogesh yadav\\appdata\\local\\pip\\cache\\wheels\\1a\\8b\\a8\\3def5d06272e9213d7691d137f65864acf0b855c476890874e\n",
      "Successfully built turtle\n",
      "Installing collected packages: turtle, svgwrite, svg.path, svgpathtools, sketchpy\n",
      "Successfully installed sketchpy-0.1.0 svg.path-6.3 svgpathtools-1.6.1 svgwrite-1.4.3 turtle-0.0.1\n"
     ]
    }
   ],
   "source": [
    "! pip install sketchpy"
   ]
  },
  {
   "cell_type": "code",
   "execution_count": 6,
   "metadata": {},
   "outputs": [],
   "source": [
    "from sketchpy import library as lib"
   ]
  },
  {
   "cell_type": "code",
   "execution_count": 24,
   "metadata": {},
   "outputs": [],
   "source": [
    "obh=lib.ironman_ascii()"
   ]
  },
  {
   "cell_type": "code",
   "execution_count": 21,
   "metadata": {},
   "outputs": [
    {
     "data": {
      "text/plain": [
       "<turtle.Turtle at 0x16c5b08dee0>"
      ]
     },
     "execution_count": 21,
     "metadata": {},
     "output_type": "execute_result"
    }
   ],
   "source": [
    "obh.Pen()"
   ]
  },
  {
   "cell_type": "code",
   "execution_count": 23,
   "metadata": {},
   "outputs": [
    {
     "data": {
      "text/plain": [
       "tkinter.Canvas"
      ]
     },
     "execution_count": 23,
     "metadata": {},
     "output_type": "execute_result"
    }
   ],
   "source": [
    "obh.Canvas"
   ]
  },
  {
   "cell_type": "code",
   "execution_count": 26,
   "metadata": {},
   "outputs": [
    {
     "ename": "TclError",
     "evalue": "invalid command name \".!canvas\"",
     "output_type": "error",
     "traceback": [
      "\u001b[1;31m---------------------------------------------------------------------------\u001b[0m",
      "\u001b[1;31mTclError\u001b[0m                                  Traceback (most recent call last)",
      "Cell \u001b[1;32mIn[26], line 1\u001b[0m\n\u001b[1;32m----> 1\u001b[0m obh\u001b[39m.\u001b[39;49mdraw()\n",
      "File \u001b[1;32mc:\\Users\\Yogesh Yadav\\anaconda3\\lib\\site-packages\\sketchpy\\library.py:784\u001b[0m, in \u001b[0;36mironman_ascii.draw\u001b[1;34m(self)\u001b[0m\n\u001b[0;32m    782\u001b[0m \u001b[39mfor\u001b[39;00m i \u001b[39min\u001b[39;00m \u001b[39mself\u001b[39m\u001b[39m.\u001b[39mdata:\n\u001b[0;32m    783\u001b[0m     \u001b[39mfor\u001b[39;00m j \u001b[39min\u001b[39;00m i:\n\u001b[1;32m--> 784\u001b[0m         d(f_m, j)\n\u001b[0;32m    785\u001b[0m         f_m \u001b[39m-\u001b[39m\u001b[39m=\u001b[39m \u001b[39m4\u001b[39m\n\u001b[0;32m    786\u001b[0m     s_y \u001b[39m-\u001b[39m\u001b[39m=\u001b[39m \u001b[39m9\u001b[39m\n",
      "File \u001b[1;32mc:\\Users\\Yogesh Yadav\\anaconda3\\lib\\site-packages\\sketchpy\\library.py:774\u001b[0m, in \u001b[0;36mironman_ascii.draw.<locals>.d\u001b[1;34m(m, s_char)\u001b[0m\n\u001b[0;32m    773\u001b[0m \u001b[39mdef\u001b[39;00m \u001b[39md\u001b[39m(m, s_char):\n\u001b[1;32m--> 774\u001b[0m     p\u001b[39m.\u001b[39;49mup()\n\u001b[0;32m    775\u001b[0m     \u001b[39mif\u001b[39;00m s_char \u001b[39m!=\u001b[39m \u001b[39m'\u001b[39m\u001b[39m\\n\u001b[39;00m\u001b[39m'\u001b[39m:\n\u001b[0;32m    776\u001b[0m         set_col(s_char)\n",
      "File \u001b[1;32mc:\\Users\\Yogesh Yadav\\anaconda3\\lib\\turtle.py:2108\u001b[0m, in \u001b[0;36mTPen.penup\u001b[1;34m(self)\u001b[0m\n\u001b[0;32m   2106\u001b[0m \u001b[39mif\u001b[39;00m \u001b[39mnot\u001b[39;00m \u001b[39mself\u001b[39m\u001b[39m.\u001b[39m_drawing:\n\u001b[0;32m   2107\u001b[0m     \u001b[39mreturn\u001b[39;00m\n\u001b[1;32m-> 2108\u001b[0m \u001b[39mself\u001b[39;49m\u001b[39m.\u001b[39;49mpen(pendown\u001b[39m=\u001b[39;49m\u001b[39mFalse\u001b[39;49;00m)\n",
      "File \u001b[1;32mc:\\Users\\Yogesh Yadav\\anaconda3\\lib\\turtle.py:2426\u001b[0m, in \u001b[0;36mTPen.pen\u001b[1;34m(self, pen, **pendict)\u001b[0m\n\u001b[0;32m   2424\u001b[0m         newLine \u001b[39m=\u001b[39m \u001b[39mTrue\u001b[39;00m\n\u001b[0;32m   2425\u001b[0m \u001b[39mif\u001b[39;00m newLine:\n\u001b[1;32m-> 2426\u001b[0m     \u001b[39mself\u001b[39;49m\u001b[39m.\u001b[39;49m_newLine()\n\u001b[0;32m   2427\u001b[0m \u001b[39mif\u001b[39;00m \u001b[39m\"\u001b[39m\u001b[39mpendown\u001b[39m\u001b[39m\"\u001b[39m \u001b[39min\u001b[39;00m p:\n\u001b[0;32m   2428\u001b[0m     \u001b[39mself\u001b[39m\u001b[39m.\u001b[39m_drawing \u001b[39m=\u001b[39m p[\u001b[39m\"\u001b[39m\u001b[39mpendown\u001b[39m\u001b[39m\"\u001b[39m]\n",
      "File \u001b[1;32mc:\\Users\\Yogesh Yadav\\anaconda3\\lib\\turtle.py:3288\u001b[0m, in \u001b[0;36mRawTurtle._newLine\u001b[1;34m(self, usePos)\u001b[0m\n\u001b[0;32m   3283\u001b[0m \u001b[39m\"\"\"Closes current line item and starts a new one.\u001b[39;00m\n\u001b[0;32m   3284\u001b[0m \u001b[39m   Remark: if current line became too long, animation\u001b[39;00m\n\u001b[0;32m   3285\u001b[0m \u001b[39m   performance (via _drawline) slowed down considerably.\u001b[39;00m\n\u001b[0;32m   3286\u001b[0m \u001b[39m\"\"\"\u001b[39;00m\n\u001b[0;32m   3287\u001b[0m \u001b[39mif\u001b[39;00m \u001b[39mlen\u001b[39m(\u001b[39mself\u001b[39m\u001b[39m.\u001b[39mcurrentLine) \u001b[39m>\u001b[39m \u001b[39m1\u001b[39m:\n\u001b[1;32m-> 3288\u001b[0m     \u001b[39mself\u001b[39;49m\u001b[39m.\u001b[39;49mscreen\u001b[39m.\u001b[39;49m_drawline(\u001b[39mself\u001b[39;49m\u001b[39m.\u001b[39;49mcurrentLineItem, \u001b[39mself\u001b[39;49m\u001b[39m.\u001b[39;49mcurrentLine,\n\u001b[0;32m   3289\u001b[0m                               \u001b[39mself\u001b[39;49m\u001b[39m.\u001b[39;49m_pencolor, \u001b[39mself\u001b[39;49m\u001b[39m.\u001b[39;49m_pensize)\n\u001b[0;32m   3290\u001b[0m     \u001b[39mself\u001b[39m\u001b[39m.\u001b[39mcurrentLineItem \u001b[39m=\u001b[39m \u001b[39mself\u001b[39m\u001b[39m.\u001b[39mscreen\u001b[39m.\u001b[39m_createline()\n\u001b[0;32m   3291\u001b[0m     \u001b[39mself\u001b[39m\u001b[39m.\u001b[39mitems\u001b[39m.\u001b[39mappend(\u001b[39mself\u001b[39m\u001b[39m.\u001b[39mcurrentLineItem)\n",
      "File \u001b[1;32mc:\\Users\\Yogesh Yadav\\anaconda3\\lib\\turtle.py:544\u001b[0m, in \u001b[0;36mTurtleScreenBase._drawline\u001b[1;34m(self, lineitem, coordlist, fill, width, top)\u001b[0m\n\u001b[0;32m    542\u001b[0m         cl\u001b[39m.\u001b[39mappend(x \u001b[39m*\u001b[39m \u001b[39mself\u001b[39m\u001b[39m.\u001b[39mxscale)\n\u001b[0;32m    543\u001b[0m         cl\u001b[39m.\u001b[39mappend(\u001b[39m-\u001b[39my \u001b[39m*\u001b[39m \u001b[39mself\u001b[39m\u001b[39m.\u001b[39myscale)\n\u001b[1;32m--> 544\u001b[0m     \u001b[39mself\u001b[39;49m\u001b[39m.\u001b[39;49mcv\u001b[39m.\u001b[39;49mcoords(lineitem, \u001b[39m*\u001b[39;49mcl)\n\u001b[0;32m    545\u001b[0m \u001b[39mif\u001b[39;00m fill \u001b[39mis\u001b[39;00m \u001b[39mnot\u001b[39;00m \u001b[39mNone\u001b[39;00m:\n\u001b[0;32m    546\u001b[0m     \u001b[39mself\u001b[39m\u001b[39m.\u001b[39mcv\u001b[39m.\u001b[39mitemconfigure(lineitem, fill\u001b[39m=\u001b[39mfill)\n",
      "File \u001b[1;32m<string>:1\u001b[0m, in \u001b[0;36mcoords\u001b[1;34m(self, *args, **kw)\u001b[0m\n",
      "File \u001b[1;32mc:\\Users\\Yogesh Yadav\\anaconda3\\lib\\tkinter\\__init__.py:2766\u001b[0m, in \u001b[0;36mCanvas.coords\u001b[1;34m(self, *args)\u001b[0m\n\u001b[0;32m   2762\u001b[0m \u001b[39m\"\"\"Return a list of coordinates for the item given in ARGS.\"\"\"\u001b[39;00m\n\u001b[0;32m   2763\u001b[0m \u001b[39m# XXX Should use _flatten on args\u001b[39;00m\n\u001b[0;32m   2764\u001b[0m \u001b[39mreturn\u001b[39;00m [\u001b[39mself\u001b[39m\u001b[39m.\u001b[39mtk\u001b[39m.\u001b[39mgetdouble(x) \u001b[39mfor\u001b[39;00m x \u001b[39min\u001b[39;00m\n\u001b[0;32m   2765\u001b[0m                    \u001b[39mself\u001b[39m\u001b[39m.\u001b[39mtk\u001b[39m.\u001b[39msplitlist(\n\u001b[1;32m-> 2766\u001b[0m            \u001b[39mself\u001b[39;49m\u001b[39m.\u001b[39;49mtk\u001b[39m.\u001b[39;49mcall((\u001b[39mself\u001b[39;49m\u001b[39m.\u001b[39;49m_w, \u001b[39m'\u001b[39;49m\u001b[39mcoords\u001b[39;49m\u001b[39m'\u001b[39;49m) \u001b[39m+\u001b[39;49m args))]\n",
      "\u001b[1;31mTclError\u001b[0m: invalid command name \".!canvas\""
     ]
    }
   ],
   "source": [
    "# import module\n",
    "from tabulate import tabulate\n",
    " \n",
    "# assign data\n",
    "mydata = [\n",
    "    [\"Nikhil\", \"Delhi\"],\n",
    "    [\"Ravi\", \"Kanpur\"],\n",
    "    [\"Manish\", \"Ahmedabad\"],\n",
    "      [\"Prince\", \"Bangalore\"]\n",
    "]\n",
    " \n",
    "# create header\n",
    "head = [\"Name\", \"City\"]\n",
    " \n",
    "# display table\n",
    "print(tabulate(mydata, headers=head, tablefmt='grid',showindex=True))"
   ]
  },
  {
   "cell_type": "code",
   "execution_count": null,
   "metadata": {},
   "outputs": [],
   "source": []
  }
 ],
 "metadata": {
  "kernelspec": {
   "display_name": "base",
   "language": "python",
   "name": "python3"
  },
  "language_info": {
   "codemirror_mode": {
    "name": "ipython",
    "version": 3
   },
   "file_extension": ".py",
   "mimetype": "text/x-python",
   "name": "python",
   "nbconvert_exporter": "python",
   "pygments_lexer": "ipython3",
   "version": "3.9.15"
  },
  "orig_nbformat": 4
 },
 "nbformat": 4,
 "nbformat_minor": 2
}
