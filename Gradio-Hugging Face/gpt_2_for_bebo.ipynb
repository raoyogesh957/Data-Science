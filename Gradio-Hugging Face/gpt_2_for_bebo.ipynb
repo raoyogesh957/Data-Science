{
  "nbformat": 4,
  "nbformat_minor": 0,
  "metadata": {
    "kernelspec": {
      "display_name": "Python 3",
      "language": "python",
      "name": "python3"
    },
    "language_info": {
      "codemirror_mode": {
        "name": "ipython",
        "version": 3
      },
      "file_extension": ".py",
      "mimetype": "text/x-python",
      "name": "python",
      "nbconvert_exporter": "python",
      "pygments_lexer": "ipython3",
      "version": "3.7.3"
    },
    "colab": {
      "provenance": [],
      "collapsed_sections": [
        "VsYULBhZhc0M"
      ]
    },
    "accelerator": "GPU"
  },
  "cells": [
    {
      "cell_type": "code",
      "metadata": {
        "id": "NfR2g52--Gus",
        "outputId": "6e3eab14-a363-4f5a-d60b-a958b020e60b",
        "colab": {
          "base_uri": "https://localhost:8080/"
        }
      },
      "source": [
        "!pip install --quiet gradio"
      ],
      "execution_count": 1,
      "outputs": [
        {
          "output_type": "stream",
          "name": "stdout",
          "text": [
            "\u001b[2K     \u001b[90m━━━━━━━━━━━━━━━━━━━━━━━━━━━━━━━━━━━━━━━━\u001b[0m \u001b[32m15.8/15.8 MB\u001b[0m \u001b[31m78.9 MB/s\u001b[0m eta \u001b[36m0:00:00\u001b[0m\n",
            "\u001b[2K     \u001b[90m━━━━━━━━━━━━━━━━━━━━━━━━━━━━━━━━━━━━━━\u001b[0m \u001b[32m106.5/106.5 KB\u001b[0m \u001b[31m13.8 MB/s\u001b[0m eta \u001b[36m0:00:00\u001b[0m\n",
            "\u001b[2K     \u001b[90m━━━━━━━━━━━━━━━━━━━━━━━━━━━━━━━━━━━━━━━━\u001b[0m \u001b[32m71.5/71.5 KB\u001b[0m \u001b[31m7.6 MB/s\u001b[0m eta \u001b[36m0:00:00\u001b[0m\n",
            "\u001b[?25h  Preparing metadata (setup.py) ... \u001b[?25l\u001b[?25hdone\n",
            "\u001b[2K     \u001b[90m━━━━━━━━━━━━━━━━━━━━━━━━━━━━━━━━━━━━━━━━\u001b[0m \u001b[32m45.7/45.7 KB\u001b[0m \u001b[31m5.9 MB/s\u001b[0m eta \u001b[36m0:00:00\u001b[0m\n",
            "\u001b[2K     \u001b[90m━━━━━━━━━━━━━━━━━━━━━━━━━━━━━━━━━━━━━━━━\u001b[0m \u001b[32m84.5/84.5 KB\u001b[0m \u001b[31m9.8 MB/s\u001b[0m eta \u001b[36m0:00:00\u001b[0m\n",
            "\u001b[2K     \u001b[90m━━━━━━━━━━━━━━━━━━━━━━━━━━━━━━━━━━━━━━\u001b[0m \u001b[32m140.9/140.9 KB\u001b[0m \u001b[31m17.9 MB/s\u001b[0m eta \u001b[36m0:00:00\u001b[0m\n",
            "\u001b[2K     \u001b[90m━━━━━━━━━━━━━━━━━━━━━━━━━━━━━━━━━━━━━━━━\u001b[0m \u001b[32m50.5/50.5 KB\u001b[0m \u001b[31m7.0 MB/s\u001b[0m eta \u001b[36m0:00:00\u001b[0m\n",
            "\u001b[2K     \u001b[90m━━━━━━━━━━━━━━━━━━━━━━━━━━━━━━━━━━━━━━\u001b[0m \u001b[32m199.2/199.2 KB\u001b[0m \u001b[31m18.7 MB/s\u001b[0m eta \u001b[36m0:00:00\u001b[0m\n",
            "\u001b[2K     \u001b[90m━━━━━━━━━━━━━━━━━━━━━━━━━━━━━━━━━━━━━━━━\u001b[0m \u001b[32m57.8/57.8 KB\u001b[0m \u001b[31m7.8 MB/s\u001b[0m eta \u001b[36m0:00:00\u001b[0m\n",
            "\u001b[2K     \u001b[90m━━━━━━━━━━━━━━━━━━━━━━━━━━━━━━━━━━━━━━━━\u001b[0m \u001b[32m1.0/1.0 MB\u001b[0m \u001b[31m26.9 MB/s\u001b[0m eta \u001b[36m0:00:00\u001b[0m\n",
            "\u001b[2K     \u001b[90m━━━━━━━━━━━━━━━━━━━━━━━━━━━━━━━━━━━━━━━━\u001b[0m \u001b[32m56.4/56.4 KB\u001b[0m \u001b[31m7.5 MB/s\u001b[0m eta \u001b[36m0:00:00\u001b[0m\n",
            "\u001b[2K     \u001b[90m━━━━━━━━━━━━━━━━━━━━━━━━━━━━━━━━━━━━━━\u001b[0m \u001b[32m264.6/264.6 KB\u001b[0m \u001b[31m18.1 MB/s\u001b[0m eta \u001b[36m0:00:00\u001b[0m\n",
            "\u001b[2K     \u001b[90m━━━━━━━━━━━━━━━━━━━━━━━━━━━━━━━━━━━━━━\u001b[0m \u001b[32m114.2/114.2 KB\u001b[0m \u001b[31m11.8 MB/s\u001b[0m eta \u001b[36m0:00:00\u001b[0m\n",
            "\u001b[2K     \u001b[90m━━━━━━━━━━━━━━━━━━━━━━━━━━━━━━━━━━━━━━\u001b[0m \u001b[32m158.8/158.8 KB\u001b[0m \u001b[31m19.9 MB/s\u001b[0m eta \u001b[36m0:00:00\u001b[0m\n",
            "\u001b[2K     \u001b[90m━━━━━━━━━━━━━━━━━━━━━━━━━━━━━━━━━━━━━━\u001b[0m \u001b[32m199.2/199.2 KB\u001b[0m \u001b[31m25.6 MB/s\u001b[0m eta \u001b[36m0:00:00\u001b[0m\n",
            "\u001b[2K     \u001b[90m━━━━━━━━━━━━━━━━━━━━━━━━━━━━━━━━━━━━━━━━\u001b[0m \u001b[32m66.9/66.9 KB\u001b[0m \u001b[31m9.6 MB/s\u001b[0m eta \u001b[36m0:00:00\u001b[0m\n",
            "\u001b[2K     \u001b[90m━━━━━━━━━━━━━━━━━━━━━━━━━━━━━━━━━━━━━━━━\u001b[0m \u001b[32m69.6/69.6 KB\u001b[0m \u001b[31m8.6 MB/s\u001b[0m eta \u001b[36m0:00:00\u001b[0m\n",
            "\u001b[2K     \u001b[90m━━━━━━━━━━━━━━━━━━━━━━━━━━━━━━━━━━━━━━━━\u001b[0m \u001b[32m58.3/58.3 KB\u001b[0m \u001b[31m5.7 MB/s\u001b[0m eta \u001b[36m0:00:00\u001b[0m\n",
            "\u001b[2K     \u001b[90m━━━━━━━━━━━━━━━━━━━━━━━━━━━━━━━━━━━━━━━━\u001b[0m \u001b[32m80.6/80.6 KB\u001b[0m \u001b[31m10.3 MB/s\u001b[0m eta \u001b[36m0:00:00\u001b[0m\n",
            "\u001b[?25h  Building wheel for ffmpy (setup.py) ... \u001b[?25l\u001b[?25hdone\n"
          ]
        }
      ]
    },
    {
      "cell_type": "code",
      "metadata": {
        "id": "fpnqjQor-Guv",
        "outputId": "354eb14e-d1da-490e-e2e4-db0095daf435",
        "colab": {
          "base_uri": "https://localhost:8080/",
          "height": 732
        }
      },
      "source": [
        "import gradio as gr\n",
        "\n",
        "title = \"Yogesh GPT\"\n",
        "\n",
        "examples = [\n",
        "    ['How do I VC?'],\n",
        "    [\"What is role of revenue growth manager?\"],\n",
        "    [\"How to copy and paste in google sheets?\"]\n",
        "]\n",
        "\n",
        "gr.Interface.load(\"huggingface/gpt2\", \n",
        "    inputs=gr.inputs.Textbox(lines=5, label=\"Input\"),\n",
        "    title=title, examples=examples).launch(share=True);"
      ],
      "execution_count": 4,
      "outputs": [
        {
          "output_type": "stream",
          "name": "stderr",
          "text": [
            "/usr/local/lib/python3.9/dist-packages/gradio/inputs.py:27: UserWarning: Usage of gradio.inputs is deprecated, and will not be supported in the future, please import your component from gradio.components\n",
            "  warnings.warn(\n",
            "/usr/local/lib/python3.9/dist-packages/gradio/deprecation.py:40: UserWarning: `optional` parameter is deprecated, and it has no effect\n",
            "  warnings.warn(value)\n",
            "/usr/local/lib/python3.9/dist-packages/gradio/deprecation.py:40: UserWarning: `numeric` parameter is deprecated, and it has no effect\n",
            "  warnings.warn(value)\n"
          ]
        },
        {
          "output_type": "stream",
          "name": "stdout",
          "text": [
            "Fetching model from: https://huggingface.co/gpt2\n",
            "Colab notebook detected. To show errors in colab notebook, set debug=True in launch()\n",
            "Running on public URL: https://6e37d08c2ed048ed41.gradio.live\n",
            "\n",
            "This share link expires in 72 hours. For free permanent hosting and GPU upgrades (NEW!), check out Spaces: https://huggingface.co/spaces\n"
          ]
        },
        {
          "output_type": "display_data",
          "data": {
            "text/plain": [
              "<IPython.core.display.HTML object>"
            ],
            "text/html": [
              "<div><iframe src=\"https://6e37d08c2ed048ed41.gradio.live\" width=\"100%\" height=\"500\" allow=\"autoplay; camera; microphone; clipboard-read; clipboard-write;\" frameborder=\"0\" allowfullscreen></iframe></div>"
            ]
          },
          "metadata": {}
        }
      ]
    },
    {
      "cell_type": "markdown",
      "metadata": {
        "id": "VsYULBhZhc0M"
      },
      "source": [
        "#### The model is now live on the gradio.app link shown above. Go ahead and open that in a new tab!"
      ]
    },
    {
      "cell_type": "code",
      "source": [
        "import gradio as gr\n",
        "\n",
        "gr.Interface.load('')"
      ],
      "metadata": {
        "id": "Z4IwTv7rMQl1",
        "outputId": "de42c807-b4d5-4b86-d1b9-b36f31c829cd",
        "colab": {
          "base_uri": "https://localhost:8080/"
        }
      },
      "execution_count": 6,
      "outputs": [
        {
          "output_type": "execute_result",
          "data": {
            "text/plain": [
              "['Accordion',\n",
              " 'Audio',\n",
              " 'BarPlot',\n",
              " 'Blocks',\n",
              " 'Box',\n",
              " 'Button',\n",
              " 'CSVLogger',\n",
              " 'Carousel',\n",
              " 'Chatbot',\n",
              " 'Checkbox',\n",
              " 'CheckboxGroup',\n",
              " 'Checkboxgroup',\n",
              " 'Code',\n",
              " 'ColorPicker',\n",
              " 'Column',\n",
              " 'DataFrame',\n",
              " 'Dataframe',\n",
              " 'Dataset',\n",
              " 'Dropdown',\n",
              " 'Error',\n",
              " 'EventData',\n",
              " 'Examples',\n",
              " 'File',\n",
              " 'Files',\n",
              " 'FlaggingCallback',\n",
              " 'Gallery',\n",
              " 'Group',\n",
              " 'HTML',\n",
              " 'Highlight',\n",
              " 'HighlightedText',\n",
              " 'Highlightedtext',\n",
              " 'HuggingFaceDatasetJSONSaver',\n",
              " 'HuggingFaceDatasetSaver',\n",
              " 'Image',\n",
              " 'ImageMask',\n",
              " 'ImagePaint',\n",
              " 'Interface',\n",
              " 'Interpretation',\n",
              " 'JSON',\n",
              " 'Json',\n",
              " 'Label',\n",
              " 'LinePlot',\n",
              " 'List',\n",
              " 'Markdown',\n",
              " 'Matrix',\n",
              " 'Mic',\n",
              " 'Microphone',\n",
              " 'Model3D',\n",
              " 'Number',\n",
              " 'Numpy',\n",
              " 'Paint',\n",
              " 'Parallel',\n",
              " 'Pil',\n",
              " 'PlayableVideo',\n",
              " 'Plot',\n",
              " 'Progress',\n",
              " 'Radio',\n",
              " 'Request',\n",
              " 'Row',\n",
              " 'ScatterPlot',\n",
              " 'SelectData',\n",
              " 'Series',\n",
              " 'SimpleCSVLogger',\n",
              " 'Sketchpad',\n",
              " 'Slider',\n",
              " 'State',\n",
              " 'StatusTracker',\n",
              " 'Tab',\n",
              " 'TabItem',\n",
              " 'TabbedInterface',\n",
              " 'Tabs',\n",
              " 'Text',\n",
              " 'TextArea',\n",
              " 'Textbox',\n",
              " 'TimeSeries',\n",
              " 'Timeseries',\n",
              " 'UploadButton',\n",
              " 'Variable',\n",
              " 'Video',\n",
              " 'Webcam',\n",
              " '__builtins__',\n",
              " '__cached__',\n",
              " '__doc__',\n",
              " '__file__',\n",
              " '__loader__',\n",
              " '__name__',\n",
              " '__package__',\n",
              " '__path__',\n",
              " '__spec__',\n",
              " '__version__',\n",
              " 'blocks',\n",
              " 'close_all',\n",
              " 'component',\n",
              " 'components',\n",
              " 'context',\n",
              " 'current_pkg_version',\n",
              " 'data_classes',\n",
              " 'deprecation',\n",
              " 'documentation',\n",
              " 'events',\n",
              " 'exceptions',\n",
              " 'external',\n",
              " 'external_utils',\n",
              " 'flagging',\n",
              " 'gradio',\n",
              " 'helpers',\n",
              " 'inputs',\n",
              " 'interface',\n",
              " 'interpretation',\n",
              " 'ipython_ext',\n",
              " 'layouts',\n",
              " 'load_ipython_extension',\n",
              " 'make_waveform',\n",
              " 'media_data',\n",
              " 'mix',\n",
              " 'mount_gradio_app',\n",
              " 'networking',\n",
              " 'outputs',\n",
              " 'pipelines',\n",
              " 'pkgutil',\n",
              " 'processing_utils',\n",
              " 'queueing',\n",
              " 'ranged_response',\n",
              " 'routes',\n",
              " 'serializing',\n",
              " 'skip',\n",
              " 'strings',\n",
              " 'templates',\n",
              " 'themes',\n",
              " 'tunneling',\n",
              " 'update',\n",
              " 'utils']"
            ]
          },
          "metadata": {},
          "execution_count": 6
        }
      ]
    },
    {
      "cell_type": "markdown",
      "metadata": {
        "id": "xn27MzU0hdS2"
      },
      "source": [
        "Please contact us [here](mailto:team@gradio.app) if you have any questions, or [open an issue](https://github.com/gradio-app/gradio-UI/issues/new/choose) at our github repo.\n",
        "\n"
      ]
    }
  ]
}