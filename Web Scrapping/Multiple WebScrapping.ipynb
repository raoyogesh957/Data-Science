{
 "cells": [
  {
   "attachments": {},
   "cell_type": "markdown",
   "metadata": {},
   "source": [
    "# Scrapping Links "
   ]
  },
  {
   "cell_type": "code",
   "execution_count": 51,
   "metadata": {},
   "outputs": [
    {
     "name": "stdout",
     "output_type": "stream",
     "text": [
      "<Response [200]>\n",
      "https://amazon.in/Dell-5-5500U-Rheinland-Certified-Comfortview/dp/B0C1434CCN/ref=sr_1_8?crid=2J7LCMD2BA4RR&keywords=laptop&qid=1687959117&sprefix=laptop%2Caps%2C298&sr=8-8\n",
      "https://amazon.in/HP-i5-1155G7-15-6-inch-Graphics-Speakers/dp/B0C3RDM59N/ref=sr_1_9?crid=2J7LCMD2BA4RR&keywords=laptop&qid=1687959117&sprefix=laptop%2Caps%2C298&sr=8-9\n",
      "https://amazon.in/Honor-MagicBook-15-6-inch-Anti-Glare-Fingerprint/dp/B0BV6YHJMV/ref=sr_1_4?crid=2J7LCMD2BA4RR&keywords=laptop&qid=1687959117&sprefix=laptop%2Caps%2C298&sr=8-4\n",
      "https://amazon.in/ASUS-15-6-inch-Integrated-Transparent-X515MA-BR011W/dp/B09SGGB687/ref=sr_1_2?crid=2J7LCMD2BA4RR&keywords=laptop&qid=1687959117&sprefix=laptop%2Caps%2C298&sr=8-2\n",
      "https://amazon.in/HP-i7-1255U-Graphics-Speakers-15s-fq5190TU/dp/B0C3D99LTP/ref=sr_1_7?crid=2J7LCMD2BA4RR&keywords=laptop&qid=1687959117&sprefix=laptop%2Caps%2C298&sr=8-7\n",
      "https://amazon.in/Honor-MagicBook-Anti-Glare-Fingerprint-NobelM-WFQ9AHNE/dp/B0BC9R8XYZ/ref=sr_1_13?crid=2J7LCMD2BA4RR&keywords=laptop&qid=1687959117&sprefix=laptop%2Caps%2C298&sr=8-13\n",
      "https://amazon.in/ASUS-Vivobook-i5-12500H-Laptop-X1502ZA-EJ542WS/dp/B0C5Y3JBC4/ref=sr_1_15?crid=2J7LCMD2BA4RR&keywords=laptop&qid=1687959117&sprefix=laptop%2Caps%2C298&sr=8-15\n",
      "https://amazon.in/Acer-Business-Windows-Z8-415-Display/dp/B0C77GRX7J/ref=sr_1_11?crid=2J7LCMD2BA4RR&keywords=laptop&qid=1687959117&sprefix=laptop%2Caps%2C298&sr=8-11\n",
      "https://amazon.in/Notebook-resolution-i5-11300H-15-6-inch-Fingerprint/dp/B098XK9BPC/ref=sr_1_16?crid=2J7LCMD2BA4RR&keywords=laptop&qid=1687959117&sprefix=laptop%2Caps%2C298&sr=8-16\n",
      "https://amazon.in/Lenovo-Celeron-1920x1080-Antiglare-82QYA00HIN/dp/B0C28GQ3YL/ref=sr_1_5?crid=2J7LCMD2BA4RR&keywords=laptop&qid=1687959117&sprefix=laptop%2Caps%2C298&sr=8-5\n",
      "https://amazon.in/Acer-Business-Windows-Student-Z8-415/dp/B0C77J952V/ref=sr_1_1?crid=2J7LCMD2BA4RR&keywords=laptop&qid=1687959117&sprefix=laptop%2Caps%2C298&sr=8-1\n",
      "https://amazon.in/HP-Celeron-Graphics-Speakers-15s-fq3071TU/dp/B0C3CLH1PV/ref=sr_1_14?crid=2J7LCMD2BA4RR&keywords=laptop&qid=1687959117&sprefix=laptop%2Caps%2C298&sr=8-14\n",
      "https://amazon.in/Dell-i5-1135G7-Rheinland-Certified-Comfortview/dp/B0C15BKF4G/ref=sr_1_10?crid=2J7LCMD2BA4RR&keywords=laptop&qid=1687959117&sprefix=laptop%2Caps%2C298&sr=8-10\n",
      "https://amazon.in/ASUS-Vivobook-14-inch-Windows-E1404FA-NK322WS/dp/B0BTWF2BQN/ref=sr_1_3?crid=2J7LCMD2BA4RR&keywords=laptop&qid=1687959117&sprefix=laptop%2Caps%2C298&sr=8-3\n",
      "https://amazon.in/ASUS-Vivobook-Integrated-Fingerprint-X515MA-BR024WS/dp/B0C1GM4C6V/ref=sr_1_12?crid=2J7LCMD2BA4RR&keywords=laptop&qid=1687959117&sprefix=laptop%2Caps%2C298&sr=8-12\n",
      "https://amazon.in/ASUS-Vivobook-i3-1115G4-Transparent-X1400EA-EK322WS/dp/B0C3CNRQD1/ref=sr_1_6?crid=2J7LCMD2BA4RR&keywords=laptop&qid=1687959117&sprefix=laptop%2Caps%2C298&sr=8-6\n",
      "16\n"
     ]
    }
   ],
   "source": [
    "import requests\n",
    "from bs4 import BeautifulSoup\n",
    "import urllib\n",
    "# urllib.request.urlopen(url)\n",
    "url='https://www.amazon.in/s?k=laptop&crid=2J7LCMD2BA4RR&sprefix=laptop%2Caps%2C298&ref=nb_sb_noss_1'\n",
    "while True :\n",
    "    link=requests.get(url,headers=({'User-Agent':'Mozilla/5.0 (Windows NT 10.0; Win64; x64) AppleWebKit/537.36 (KHTML, like Gecko) Chrome/113.0.0.0 Safari/537.36'}))\n",
    "    if link.status_code==200:\n",
    "        print(link)\n",
    "        soup=BeautifulSoup(link.content,'html.parser')\n",
    "        # soup\n",
    "        se=set()\n",
    "        xyz=soup.find_all('h2',{'class':'a-size-mini a-spacing-none a-color-base s-line-clamp-2'})\n",
    "        for i in xyz:\n",
    "            abc=i.find('a',{'class':\"a-link-normal s-underline-text s-underline-link-text s-link-style a-text-normal\"})\n",
    "            x=abc.get('href')\n",
    "            se.add('https://amazon.in'+x)\n",
    "        for i in se:\n",
    "            print(i)  \n",
    "        print(len(se))    \n",
    "        break    "
   ]
  },
  {
   "attachments": {},
   "cell_type": "markdown",
   "metadata": {},
   "source": [
    "# Next Links "
   ]
  },
  {
   "cell_type": "code",
   "execution_count": 52,
   "metadata": {},
   "outputs": [
    {
     "name": "stdout",
     "output_type": "stream",
     "text": [
      "https://amazon.in//s?k=laptop&page=2&crid=2J7LCMD2BA4RR&qid=1687959117&sprefix=laptop%2Caps%2C298&ref=sr_pg_2"
     ]
    }
   ],
   "source": [
    "# page=soup.find('span',{'class':'s-pagination-item s-pagination-selected'})\n",
    "next_link=soup.find('a',{'class':'s-pagination-item s-pagination-next s-pagination-button s-pagination-separator'}).get('href')\n",
    "# a=print('https://amazon.in/',end=next_link.get('href'))\n",
    "'https://amazon.in'+next_link\n",
    "next_link=soup.find('a',{'class':'s-pagination-item s-pagination-button'})\n",
    "a=print('https://amazon.in/',end=next_link.get('href'))"
   ]
  },
  {
   "cell_type": "code",
   "execution_count": 53,
   "metadata": {},
   "outputs": [],
   "source": [
    "url='https://amazon.in/HP-i5-1155G7-Anti-Glare-KeyboardAlexa-15s-fr4000TU/dp/B0BRT8PGFB/ref=sr_1_7?crid=2J7LCMD2BA4RR&keywords=laptop&qid=1687795692&sprefix=laptop%2Caps%2C298&sr=8-7'\n",
    "content=requests.get(url,headers=({'User-Agent':'Mozilla/5.0 (Windows NT 10.0; Win64; x64) AppleWebKit/537.36 (KHTML, like Gecko) Chrome/113.0.0.0 Safari/537.36'}))\n",
    "content\n",
    "soup=BeautifulSoup(content.content,'html.parser')"
   ]
  },
  {
   "attachments": {},
   "cell_type": "markdown",
   "metadata": {},
   "source": [
    "# All Links "
   ]
  },
  {
   "cell_type": "code",
   "execution_count": null,
   "metadata": {},
   "outputs": [],
   "source": [
    "url='https://www.flipkart.com/search?q=laptop&otracker=search&otracker1=search&marketplace=FLIPKART&as-show=off&as=off'\n",
    "for i in range(5):\n",
    "    print(url)\n",
    "    soup=get_soup(url)\n",
    "    clas = '_1LKTO3'\n",
    "    abc=soup.find_all('a', {'class': clas})\n",
    "    for i in abc:\n",
    "        if i.text=='Next':\n",
    "            next_link=i.get('href')\n",
    "            url = 'https://flipkart.com'+next_link\n"
   ]
  },
  {
   "attachments": {},
   "cell_type": "markdown",
   "metadata": {},
   "source": [
    "# DataFrame "
   ]
  },
  {
   "cell_type": "code",
   "execution_count": 54,
   "metadata": {},
   "outputs": [],
   "source": [
    "import pandas as pd\n",
    "import requests\n",
    "from bs4 import BeautifulSoup    \n",
    "se=list(se)\n",
    "se\n",
    "df=pd.DataFrame()\n",
    "\n",
    "def get_link(url):\n",
    "    user='Mozilla/5.0 (Windows NT 10.0; Win64; x64) AppleWebKit/537.36 (KHTML, like Gecko) Chrome/113.0.0.0 Safari/537.36'\n",
    "    while True:\n",
    "      link=requests.get(url,headers={'User-Agent':user})\n",
    "      if link.status_code==200:\n",
    "          return link\n",
    "          break\n",
    "\n",
    "def get_soup(link):\n",
    "  soup=BeautifulSoup(link.content,'html.parser')    \n",
    "  return soup"
   ]
  },
  {
   "cell_type": "code",
   "execution_count": 55,
   "metadata": {},
   "outputs": [
    {
     "name": "stdout",
     "output_type": "stream",
     "text": [
      "https://amazon.in/Dell-5-5500U-Rheinland-Certified-Comfortview/dp/B0C1434CCN/ref=sr_1_8?crid=2J7LCMD2BA4RR&keywords=laptop&qid=1687959117&sprefix=laptop%2Caps%2C298&sr=8-8\n"
     ]
    }
   ],
   "source": [
    "print(se[0])"
   ]
  },
  {
   "cell_type": "code",
   "execution_count": 2,
   "metadata": {},
   "outputs": [],
   "source": [
    "for l in se[:1]:\n",
    "\n",
    "    url=l\n",
    "\n",
    "    link=get_link(url)\n",
    "    soup=get_soup(link)\n",
    "    p=soup.find('span',{'class':'a-price-whole'})\n",
    "    print(p.text)\n",
    "    # data=soup.find('div',{'class':'a-expander-content a-expander-section-content a-section-expander-inner'})\n",
    "    # for i in soup.find_all('table',{'class':\"a-keyvalue prodDetTable\",'id':'productDetails_techSpec_section_1'}):   \n",
    "    #     print(i)\n",
    "    for j ,x in zip(soup.find_all('th',{'class':'a-color-secondary a-size-base prodDetSectionEntry'}),soup.find_all('td',{'class':'a-size-base prodDetAttrValue'})):\n",
    "        if j.text.strip()=='Brand':\n",
    "            print('Brand : ',x.text.strip())\n",
    "            brand.append(x.text.strip())\n",
    "        elif  j.text.strip()=='Series':\n",
    "            print('Series : ',x.text.strip())   \n",
    "            series.append(x.text.strip()) \n",
    "        elif  j.text.strip()=='RAM Size':\n",
    "            print('RAM : ',x.text.strip())    \n",
    "            RAM.append(x.text.strip())\n",
    "            \n",
    "    df1=pd.DataFrame({'Brand':brand,'Series':series,'RAM':RAM,'Price':price},index=[0])\n",
    "    df=pd.concat([df,df1],axis=0,ignore_index=True)   \n",
    "df            \n",
    "\n",
    "        "
   ]
  },
  {
   "cell_type": "code",
   "execution_count": 1,
   "metadata": {},
   "outputs": [],
   "source": [
    "import pandas as pd\n",
    "df=pd.DataFrame()\n",
    "import requests\n",
    "from bs4 import BeautifulSoup\n",
    "se=['https://amazon.in/Honor-MagicBook-Anti-Glare-Fingerprint-NobelM-WFQ9AHNE/dp/B0BC9R8XYZ/ref=sr_1_12?crid=2J7LCMD2BA4RR&keywords=laptop&qid=1687956085&sprefix=laptop%2Caps%2C298&sr=8-12','https://amazon.in/Acer-Extensa-Processor-Graphics-EX215-33/dp/B0BXL9KVCL/ref=sr_1_7?crid=2J7LCMD2BA4RR&keywords=laptop&qid=1687956085&sprefix=laptop%2Caps%2C298&sr=8-7']\n",
    "\n",
    "for l in se[:1]:\n",
    "    brand=[]\n",
    "    series=[]\n",
    "    RAM=[]\n",
    "    price=[]\n",
    "\n",
    "    url=l\n",
    "\n",
    "\n",
    "    content= requests.get(url,headers=({'User-Agent':'Mozilla/5.0 (Windows NT 10.0; Win64; x64) AppleWebKit/537.36 (KHTML, like Gecko) Chrome/113.0.0.0 Safari/537.36'}))\n",
    "    soup = BeautifulSoup(content.content,'html.parser')\n",
    "    print(content)\n",
    "    price=soup.find('span',{'class':'a-price-whole'}).text\n",
    "    print(price)        \n",
    "    # data=soup.find('div',{'class':'a-expander-content a-expander-section-content a-section-expander-inner'})\n",
    "    for i in soup.find_all('table',{'class':\"a-keyvalue prodDetTable\",'id':'productDetails_techSpec_section_1'}):   \n",
    "        print(i)\n",
    "        for j ,x in zip(i.find_all('th',{'class':'a-color-secondary a-size-base prodDetSectionEntry'}),i.find_all('td',{'class':'a-size-base prodDetAttrValue'})):\n",
    "            if j.text.strip()=='Brand':\n",
    "                print('Brand : ',x.text.strip())\n",
    "                brand.append(x.text.strip())\n",
    "            elif  j.text.strip()=='Series':\n",
    "                print('Series : ',x.text.strip())   \n",
    "                series.append(x.text.strip()) \n",
    "            elif  j.text.strip()=='RAM Size':\n",
    "                print('RAM : ',x.text.strip())    \n",
    "                RAM.append(x.text.strip())\n",
    "        try:        \n",
    "            df1=pd.DataFrame({'Brand':brand,'Series':series,'RAM':RAM,'Price':price},index=[0])\n",
    "        except:\n",
    "            pass \n",
    "    df=pd.concat([df,df1],axis=0,ignore_index=True)   \n",
    "           \n",
    "df            \n",
    "\n",
    "        "
   ]
  },
  {
   "cell_type": "code",
   "execution_count": null,
   "metadata": {},
   "outputs": [],
   "source": []
  }
 ],
 "metadata": {
  "kernelspec": {
   "display_name": "base",
   "language": "python",
   "name": "python3"
  },
  "language_info": {
   "codemirror_mode": {
    "name": "ipython",
    "version": 3
   },
   "file_extension": ".py",
   "mimetype": "text/x-python",
   "name": "python",
   "nbconvert_exporter": "python",
   "pygments_lexer": "ipython3",
   "version": "3.9.15"
  },
  "orig_nbformat": 4
 },
 "nbformat": 4,
 "nbformat_minor": 2
}
