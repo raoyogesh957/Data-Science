{
 "cells": [
  {
   "cell_type": "code",
   "execution_count": 8,
   "metadata": {},
   "outputs": [],
   "source": [
    "import requests\n",
    "from bs4 import BeautifulSoup\n",
    "import urllib\n",
    "import pandas as pd\n",
    "\n",
    "\n",
    "def get_soup(url):\n",
    "    user = 'Mozilla/5.0 (Windows NT 10.0; Win64; x64) AppleWebKit/537.36 (KHTML, like Gecko) Chrome/113.0.0.0 Safari/537.36'\n",
    "    while True:\n",
    "      link = requests.get(url, headers={'User-Agent': user})\n",
    "      if link.status_code == 200:\n",
    "        soup = BeautifulSoup(link.content, 'html.parser')\n",
    "        break\n",
    "    return soup"
   ]
  },
  {
   "attachments": {},
   "cell_type": "markdown",
   "metadata": {},
   "source": [
    "# All links from one page "
   ]
  },
  {
   "cell_type": "code",
   "execution_count": 7,
   "metadata": {},
   "outputs": [
    {
     "name": "stdout",
     "output_type": "stream",
     "text": [
      "<Response [200]>\n",
      "https://flipkart.com/asus-vivobook-15-core-i5-12th-gen-8-gb-512-gb-ssd-windows-11-home-x1502za-ej515ws-thin-light-laptop/p/itm76fe58bbaa94b?pid=COMGZDZSVBBZAK3Z&lid=LSTCOMGZDZSVBBZAK3ZLEAGYH&marketplace=FLIPKART&q=laptop&store=6bo%2Fb5g&srno=s_1_21&otracker=search&otracker1=search&fm=organic&iid=en_vFhG5BUk45uzYSRao2VrpkTUB1__HdiWR1FdVxPix7UNOsoDS9r6BvOLXHIZq4nMmRcfSdFEgSih_f5oO0zfnw%3D%3D&ppt=None&ppn=None&ssid=6b6wd0rb1s0000001688103951522&qH=312f91285e048e09\n",
      "https://flipkart.com/hp-15s-2023-intel-core-i3-12th-gen-8-gb-512-gb-ssd-windows-11-home-15s-fy5003tu-thin-light-laptop/p/itm2260c2112e85a?pid=COMGZVGHE9QU8C6M&lid=LSTCOMGZVGHE9QU8C6M1AFYO2&marketplace=FLIPKART&q=laptop&store=6bo%2Fb5g&srno=s_1_24&otracker=search&otracker1=search&fm=organic&iid=37444c6d-6cf3-4dcf-8241-2a5a11229afd.COMGZVGHE9QU8C6M.SEARCH&ppt=None&ppn=None&ssid=6b6wd0rb1s0000001688103951522&qH=312f91285e048e09\n",
      "https://flipkart.com/asus-tuf-gaming-a15-ryzen-5-hexa-core-amd-r5-4600h-8-gb-1-tb-ssd-windows-11-home-4-gb-graphics-nvidia-geforce-gtx-1650-144-hz-fa506ihrz-hn112w-laptop/p/itm20d472c5059c0?pid=COMGGJZFJRZY45WX&lid=LSTCOMGGJZFJRZY45WXD02LFG&marketplace=FLIPKART&q=laptop&store=6bo%2Fb5g&srno=s_1_14&otracker=search&otracker1=search&fm=organic&iid=37444c6d-6cf3-4dcf-8241-2a5a11229afd.COMGGJZFJRZY45WX.SEARCH&ppt=None&ppn=None&ssid=6b6wd0rb1s0000001688103951522&qH=312f91285e048e09\n",
      "https://flipkart.com/asus-chromebook-touch-intel-celeron-dual-core-4-gb-64-gb-emmc-storage-chrome-os-c523na-a20303/p/itm084aa0e5ae2b6?pid=COMG49CZ8SVW7TWD&lid=LSTCOMG49CZ8SVW7TWDMKMYIO&marketplace=FLIPKART&q=laptop&store=6bo%2Fb5g&srno=s_1_1&otracker=search&otracker1=search&fm=organic&iid=en_vFhG5BUk45uzYSRao2VrpkTUB1__HdiWR1FdVxPix7Wvu3l7jd91vrgn6FryxZxUFo3IIwuzdHT0PCtk9rJL1Q%3D%3D&ppt=None&ppn=None&ssid=6b6wd0rb1s0000001688103951522&qH=312f91285e048e09\n",
      "https://flipkart.com/asus-vivobook-15-core-i3-11th-gen-8-gb-512-gb-ssd-windows-11-home-x515ea-ej322ws-x515ea-ej328ws-thin-light-laptop/p/itmaafbc240a8774?pid=COMGA5TUCZAV4HGH&lid=LSTCOMGA5TUCZAV4HGHWM8PS0&marketplace=FLIPKART&q=laptop&store=6bo%2Fb5g&spotlightTagId=BestsellerId_6bo%2Fb5g&srno=s_1_3&otracker=search&otracker1=search&fm=organic&iid=37444c6d-6cf3-4dcf-8241-2a5a11229afd.COMGA5TUCZAV4HGH.SEARCH&ppt=None&ppn=None&ssid=6b6wd0rb1s0000001688103951522&qH=312f91285e048e09\n",
      "https://flipkart.com/lenovo-intel-celeron-dual-core-8-gb-256-gb-ssd-windows-11-home-81wq00mqin-81wq00nxin-laptop/p/itm2560cd9192f02?pid=COMGDMXVJJB2HGMY&lid=LSTCOMGDMXVJJB2HGMYLAIFLM&marketplace=FLIPKART&q=laptop&store=6bo%2Fb5g&srno=s_1_4&otracker=search&otracker1=search&fm=organic&iid=37444c6d-6cf3-4dcf-8241-2a5a11229afd.COMGDMXVJJB2HGMY.SEARCH&ppt=None&ppn=None&ssid=6b6wd0rb1s0000001688103951522&qH=312f91285e048e09\n",
      "https://flipkart.com/asus-vivobook-15-core-i5-11th-gen-8-gb-512-gb-ssd-windows-11-home-x515ea-ej522ws-thin-light-laptop/p/itm85cfbc3a2e8a7?pid=COMGFHNGGWNDVGSY&lid=LSTCOMGFHNGGWNDVGSY5C6JML&marketplace=FLIPKART&q=laptop&store=6bo%2Fb5g&srno=s_1_12&otracker=search&otracker1=search&fm=organic&iid=en_vFhG5BUk45uzYSRao2VrpkTUB1__HdiWR1FdVxPix7VKSEcfkF9Aj8eyZyfReNYFP3Dwp_Z3Llwiz3PvRVC1hw%3D%3D&ppt=None&ppn=None&ssid=6b6wd0rb1s0000001688103951522&qH=312f91285e048e09\n",
      "https://flipkart.com/realme-book-slim-core-i3-11th-gen-8-gb-256-gb-ssd-windows-10-home-rmnb1001-thin-light-laptop/p/itm7109ffde0b2cc?pid=COMG5YDPYEB7ZAKK&lid=LSTCOMG5YDPYEB7ZAKKVEOVUY&marketplace=FLIPKART&q=laptop&store=6bo%2Fb5g&srno=s_1_9&otracker=search&otracker1=search&fm=organic&iid=37444c6d-6cf3-4dcf-8241-2a5a11229afd.COMG5YDPYEB7ZAKK.SEARCH&ppt=None&ppn=None&ssid=6b6wd0rb1s0000001688103951522&qH=312f91285e048e09\n",
      "https://flipkart.com/lenovo-ideapad-gaming-3-intel-core-i5-11th-gen-8-gb-512-gb-ssd-windows-11-home-4-graphics-nvidia-geforce-gtx-1650-82k101b6in-82k101ftin-laptop/p/itm52edaf472c5df?pid=COMGFM5BFZHDDB4R&lid=LSTCOMGFM5BFZHDDB4RSEPODX&marketplace=FLIPKART&q=laptop&store=6bo%2Fb5g&srno=s_1_11&otracker=search&otracker1=search&fm=organic&iid=en_vFhG5BUk45uzYSRao2VrpkTUB1__HdiWR1FdVxPix7WeexnTOX1fvbfGLglOYHEX8IyX3CLOXMqQDzV5ii21TA%3D%3D&ppt=None&ppn=None&ssid=6b6wd0rb1s0000001688103951522&qH=312f91285e048e09\n",
      "https://flipkart.com/asus-2022-celeron-dual-core-4-gb-128-gb-ssd-windows-11-home-br1100cka-gj0722w-laptop/p/itm6c9997bdb0736?pid=COMGCV52YQN8Q2VY&lid=LSTCOMGCV52YQN8Q2VYFUEN82&marketplace=FLIPKART&q=laptop&store=6bo%2Fb5g&srno=s_1_2&otracker=search&otracker1=search&fm=organic&iid=en_vFhG5BUk45uzYSRao2VrpkTUB1__HdiWR1FdVxPix7XyAXeLAD_U8Dujx8U9Ga9-E0MtJ9DxJq7zHVLhOOuP8A%3D%3D&ppt=None&ppn=None&ssid=6b6wd0rb1s0000001688103951522&qH=312f91285e048e09\n",
      "https://flipkart.com/hp-chromebook-x360-intel-celeron-dual-core-4-gb-64-gb-emmc-storage-chrome-os-14a-ca0506tu-thin-light-laptop/p/itmdf57346a9ffeb?pid=COMGBHKFAYHEMVAT&lid=LSTCOMGBHKFAYHEMVATTMWBVX&marketplace=FLIPKART&q=laptop&store=6bo%2Fb5g&srno=s_1_22&otracker=search&otracker1=search&fm=organic&iid=en_vFhG5BUk45uzYSRao2VrpkTUB1__HdiWR1FdVxPix7UJ2MYXPO5PUh0DE8E0quaRGaT-P7k7CYwOogAOeqx2Iw%3D%3D&ppt=None&ppn=None&ssid=6b6wd0rb1s0000001688103951522&qH=312f91285e048e09\n",
      "https://flipkart.com/infinix-inbook-x1-neo-series-celeron-quad-core-8-gb-256-gb-ssd-windows-11-home-xl22-thin-light-laptop/p/itm83e1c68ae336a?pid=COMGG3S9XZV4PWHB&lid=LSTCOMGG3S9XZV4PWHB7QYYCQ&marketplace=FLIPKART&q=laptop&store=6bo%2Fb5g&spotlightTagId=FkPickId_6bo%2Fb5g&srno=s_1_6&otracker=search&otracker1=search&fm=organic&iid=37444c6d-6cf3-4dcf-8241-2a5a11229afd.COMGG3S9XZV4PWHB.SEARCH&ppt=None&ppn=None&ssid=6b6wd0rb1s0000001688103951522&qH=312f91285e048e09\n",
      "https://flipkart.com/hp-14s-intel-core-i3-11th-gen-8-gb-512-gb-ssd-windows-11-home-dy2508tu-thin-light-laptop/p/itm49f4531237a12?pid=COMGGTT4VFWG3FFM&lid=LSTCOMGGTT4VFWG3FFMB7VNLU&marketplace=FLIPKART&q=laptop&store=6bo%2Fb5g&srno=s_1_19&otracker=search&otracker1=search&fm=organic&iid=37444c6d-6cf3-4dcf-8241-2a5a11229afd.COMGGTT4VFWG3FFM.SEARCH&ppt=None&ppn=None&ssid=6b6wd0rb1s0000001688103951522&qH=312f91285e048e09\n",
      "https://flipkart.com/dell-core-i5-12th-gen-8-gb-512-gb-ssd-windows-11-home-new-inspiron-15-laptop-thin-light/p/itmf4b0a685bcc18?pid=COMGJ75HAXTTTV58&lid=LSTCOMGJ75HAXTTTV58DKOUI3&marketplace=FLIPKART&q=laptop&store=6bo%2Fb5g&srno=s_1_17&otracker=search&otracker1=search&fm=organic&iid=en_vFhG5BUk45uzYSRao2VrpkTUB1__HdiWR1FdVxPix7XhaUgQGVXaGYhhvUg2sB9nSaSSAJ5OXuHGqnvPXkiAPQ%3D%3D&ppt=None&ppn=None&ssid=6b6wd0rb1s0000001688103951522&qH=312f91285e048e09\n",
      "https://flipkart.com/apple-2020-macbook-air-m1-8-gb-256-gb-ssd-mac-os-big-sur-mgn63hn-a/p/itmde54f026889ce?pid=COMFXEKMGNHZYFH9&lid=LSTCOMFXEKMGNHZYFH9P56X45&marketplace=FLIPKART&q=laptop&store=6bo%2Fb5g&srno=s_1_5&otracker=search&otracker1=search&fm=organic&iid=37444c6d-6cf3-4dcf-8241-2a5a11229afd.COMFXEKMGNHZYFH9.SEARCH&ppt=None&ppn=None&ssid=6b6wd0rb1s0000001688103951522&qH=312f91285e048e09\n",
      "https://flipkart.com/dell-inspiron-core-i3-11th-gen-8-gb-512-gb-ssd-windows-11-home-3511-thin-light-laptop/p/itma07f53e68b4af?pid=COMGF478WJG7FDQQ&lid=LSTCOMGF478WJG7FDQQDGMUKW&marketplace=FLIPKART&q=laptop&store=6bo%2Fb5g&srno=s_1_15&otracker=search&otracker1=search&fm=organic&iid=37444c6d-6cf3-4dcf-8241-2a5a11229afd.COMGF478WJG7FDQQ.SEARCH&ppt=None&ppn=None&ssid=6b6wd0rb1s0000001688103951522&qH=312f91285e048e09\n",
      "https://flipkart.com/hp-15s-2023-intel-core-i5-11th-gen-16-gb-512-gb-ssd-windows-11-home-15s-fr4001tu-thin-light-laptop/p/itm2420d6e75acdb?pid=COMGZNSB6GCJVUPX&lid=LSTCOMGZNSB6GCJVUPXOWTDNN&marketplace=FLIPKART&q=laptop&store=6bo%2Fb5g&srno=s_1_7&otracker=search&otracker1=search&fm=organic&iid=37444c6d-6cf3-4dcf-8241-2a5a11229afd.COMGZNSB6GCJVUPX.SEARCH&ppt=None&ppn=None&ssid=6b6wd0rb1s0000001688103951522&qH=312f91285e048e09\n",
      "https://flipkart.com/lenovo-ideapad-3-intel-core-i3-11th-gen-8-gb-512-gb-ssd-windows-11-home-82h801l7in-82h802fjin-82h802l3in-82h801lhin-82h803e6in-thin-light-laptop/p/itmd8891a36fdd7c?pid=COMG9VHHG6Q3RRJX&lid=LSTCOMG9VHHG6Q3RRJXQHPK6Q&marketplace=FLIPKART&q=laptop&store=6bo%2Fb5g&srno=s_1_10&otracker=search&otracker1=search&fm=organic&iid=37444c6d-6cf3-4dcf-8241-2a5a11229afd.COMG9VHHG6Q3RRJX.SEARCH&ppt=None&ppn=None&ssid=6b6wd0rb1s0000001688103951522&qH=312f91285e048e09\n",
      "https://flipkart.com/hp-15s-2023-ryzen-3-dual-core-3250u-8-gb-512-gb-ssd-windows-11-home-15s-eq1580au-thin-light-laptop/p/itm38089bbd52842?pid=COMGZYRYCB3JVMJS&lid=LSTCOMGZYRYCB3JVMJSLOJRY5&marketplace=FLIPKART&q=laptop&store=6bo%2Fb5g&srno=s_1_13&otracker=search&otracker1=search&fm=organic&iid=37444c6d-6cf3-4dcf-8241-2a5a11229afd.COMGZYRYCB3JVMJS.SEARCH&ppt=None&ppn=None&ssid=6b6wd0rb1s0000001688103951522&qH=312f91285e048e09\n",
      "https://flipkart.com/asus-vivobook-15-core-i3-11th-gen-8-gb-512-gb-ssd-windows-11-home-x1500ea-ej3381ws-laptop/p/itmdc7fc5b25cd30?pid=COMGMXT5FNPRPFGZ&lid=LSTCOMGMXT5FNPRPFGZB8VLXQ&marketplace=FLIPKART&q=laptop&store=6bo%2Fb5g&srno=s_1_18&otracker=search&otracker1=search&fm=organic&iid=en_vFhG5BUk45uzYSRao2VrpkTUB1__HdiWR1FdVxPix7V55zuDG7hYjmadcCbWeadH2zK1iHQk4SSAMJK395NHCw%3D%3D&ppt=None&ppn=None&ssid=6b6wd0rb1s0000001688103951522&qH=312f91285e048e09\n",
      "https://flipkart.com/hp-14s-intel-core-i3-11th-gen-8-gb-256-gb-ssd-windows-11-home-dy2507tu-thin-light-laptop/p/itm183e95bd1f23b?pid=COMGG63H9BFFUYVY&lid=LSTCOMGG63H9BFFUYVYFHH552&marketplace=FLIPKART&q=laptop&store=6bo%2Fb5g&srno=s_1_20&otracker=search&otracker1=search&fm=organic&iid=37444c6d-6cf3-4dcf-8241-2a5a11229afd.COMGG63H9BFFUYVY.SEARCH&ppt=None&ppn=None&ssid=6b6wd0rb1s0000001688103951522&qH=312f91285e048e09\n",
      "https://flipkart.com/hp-ryzen-5-hexa-core-5500u-16-gb-512-gb-ssd-windows-11-home-15s-eq2182au-thin-light-laptop/p/itm09b322c037285?pid=COMGFRHGDB9G3Z9C&lid=LSTCOMGFRHGDB9G3Z9CBGKRA6&marketplace=FLIPKART&q=laptop&store=6bo%2Fb5g&srno=s_1_23&otracker=search&otracker1=search&fm=organic&iid=37444c6d-6cf3-4dcf-8241-2a5a11229afd.COMGFRHGDB9G3Z9C.SEARCH&ppt=None&ppn=None&ssid=6b6wd0rb1s0000001688103951522&qH=312f91285e048e09\n",
      "https://flipkart.com/asus-vivobook-go-15-oled-2023-ryzen-3-quad-core-7320u-8-gb-512-gb-ssd-windows-11-home-e1504fa-lk323ws-thin-light-laptop/p/itm4de9090ed134b?pid=COMGMGXFGF7ZTKHF&lid=LSTCOMGMGXFGF7ZTKHFBG8NVU&marketplace=FLIPKART&q=laptop&store=6bo%2Fb5g&srno=s_1_8&otracker=search&otracker1=search&fm=organic&iid=en_vFhG5BUk45uzYSRao2VrpkTUB1__HdiWR1FdVxPix7UjJfrOXk_0kWXKKcKcWktwVBn0Ef-qUXw_2yEbhamvwA%3D%3D&ppt=None&ppn=None&ssid=6b6wd0rb1s0000001688103951522&qH=312f91285e048e09\n",
      "https://flipkart.com/msi-bravo-15-ryzen-7-octa-core-5800h-8-gb-512-gb-ssd-windows-11-home-4-graphics-amd-radeon-rx6500m-144-hz-b5ed-034in-gaming-laptop/p/itm30805deb712b3?pid=COMGNY4FMEF9ZWT2&lid=LSTCOMGNY4FMEF9ZWT2AGD7JA&marketplace=FLIPKART&q=laptop&store=6bo%2Fb5g&srno=s_1_16&otracker=search&otracker1=search&fm=organic&iid=37444c6d-6cf3-4dcf-8241-2a5a11229afd.COMGNY4FMEF9ZWT2.SEARCH&ppt=None&ppn=None&ssid=6b6wd0rb1s0000001688103951522&qH=312f91285e048e09\n",
      "24\n"
     ]
    }
   ],
   "source": [
    "url='https://www.flipkart.com/search?q=laptop&otracker=search&otracker1=search&marketplace=FLIPKART&as-show=off&as=off'\n",
    "while True :\n",
    "    link=requests.get(url,headers=({'User-Agent':'Mozilla/5.0 (Windows NT 10.0; Win64; x64) AppleWebKit/537.36 (KHTML, like Gecko) Chrome/113.0.0.0 Safari/537.36'}))\n",
    "    if link.status_code==200:\n",
    "        print(link)\n",
    "        soup=BeautifulSoup(link.content,'html.parser')\n",
    "        # soup\n",
    "        se=set()\n",
    "        xyz=soup.find_all('div',{'class':'_2kHMtA'})\n",
    "        for i in xyz:\n",
    "            abc=i.find('a',{'class':\"_1fQZEK\"})\n",
    "            x=abc.get('href')\n",
    "            se.add('https://flipkart.com'+x)\n",
    "        for i in se:\n",
    "            print(i)  \n",
    "        print(len(se))    \n",
    "        break    "
   ]
  },
  {
   "cell_type": "code",
   "execution_count": 6,
   "metadata": {},
   "outputs": [
    {
     "name": "stdout",
     "output_type": "stream",
     "text": [
      "https://flipkart.com/search?q=laptop&otracker=search&otracker1=search&marketplace=FLIPKART&as-show=off&as=off&page=2"
     ]
    }
   ],
   "source": [
    "# # page=soup.find('span',{'class':'s-pagination-item s-pagination-selected'})\n",
    "# next_link=soup.find('a',{'class':'s-pagination-item s-pagination-next s-pagination-button s-pagination-separator'}).get('href')\n",
    "# # a=print('https://amazon.in/',end=next_link.get('href'))\n",
    "# 'https://amazon.in'+next_link\n",
    "next_link=soup.find('a',{'class':'_1LKTO3'})\n",
    "a=print('https://flipkart.com',end=next_link.get('href'))\n",
    "a"
   ]
  },
  {
   "attachments": {},
   "cell_type": "markdown",
   "metadata": {},
   "source": [
    "# Multiple Links available "
   ]
  },
  {
   "cell_type": "code",
   "execution_count": 14,
   "metadata": {},
   "outputs": [
    {
     "name": "stdout",
     "output_type": "stream",
     "text": [
      "https://www.flipkart.com/search?q=laptop&otracker=search&otracker1=search&marketplace=FLIPKART&as-show=off&as=off\n",
      "https://flipkart.com/search?q=laptop&otracker=search&otracker1=search&marketplace=FLIPKART&as-show=off&as=off&page=2\n",
      "https://flipkart.com/search?q=laptop&otracker=search&otracker1=search&marketplace=FLIPKART&as-show=off&as=off&page=3\n",
      "https://flipkart.com/search?q=laptop&otracker=search&otracker1=search&marketplace=FLIPKART&as-show=off&as=off&page=4\n",
      "https://flipkart.com/search?q=laptop&otracker=search&otracker1=search&marketplace=FLIPKART&as-show=off&as=off&page=5\n"
     ]
    }
   ],
   "source": [
    "url='https://www.flipkart.com/search?q=laptop&otracker=search&otracker1=search&marketplace=FLIPKART&as-show=off&as=off'\n",
    "for i in range(5):\n",
    "    print(url)\n",
    "    soup=get_soup(url)\n",
    "    clas = '_1LKTO3'\n",
    "    abc=soup.find_all('a', {'class': clas})\n",
    "    for i in abc:\n",
    "        if i.text=='Next':\n",
    "            next_link=i.get('href')\n",
    "            url = 'https://flipkart.com'+next_link\n",
    "\n"
   ]
  },
  {
   "cell_type": "code",
   "execution_count": null,
   "metadata": {},
   "outputs": [],
   "source": [
    "url"
   ]
  }
 ],
 "metadata": {
  "kernelspec": {
   "display_name": "base",
   "language": "python",
   "name": "python3"
  },
  "language_info": {
   "codemirror_mode": {
    "name": "ipython",
    "version": 3
   },
   "file_extension": ".py",
   "mimetype": "text/x-python",
   "name": "python",
   "nbconvert_exporter": "python",
   "pygments_lexer": "ipython3",
   "version": "3.9.15"
  },
  "orig_nbformat": 4
 },
 "nbformat": 4,
 "nbformat_minor": 2
}
