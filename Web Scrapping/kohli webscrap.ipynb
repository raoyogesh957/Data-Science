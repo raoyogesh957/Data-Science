{
 "cells": [
  {
   "cell_type": "code",
   "execution_count": 11,
   "metadata": {},
   "outputs": [],
   "source": [
    "import urllib\n",
    "import requests\n",
    "import bs4"
   ]
  },
  {
   "cell_type": "code",
   "execution_count": 12,
   "metadata": {},
   "outputs": [],
   "source": [
    "url=requests.get('https://www.google.com/search?q=virat+kohli&rlz=1C1ONGR_enIN1022IN1022&source=lnms&tbm=isch&sa=X&ved=2ahUKEwj74M_o75f_AhVsamwGHYlDDbYQ_AUoAnoECAIQBA&biw=1536&bih=842&dpr=1.25',\n",
    "                           headers={'user_agent':'Mozilla/5.0 (Windows NT 10.0; Win64; x64) AppleWebKit/537.36 (KHTML, like Gecko) Chrome/113.0.0.0 Safari/537.36'})"
   ]
  },
  {
   "cell_type": "code",
   "execution_count": 13,
   "metadata": {},
   "outputs": [],
   "source": [
    "soup=bs4.BeautifulSoup(url.content,'html.parser')"
   ]
  },
  {
   "cell_type": "code",
   "execution_count": 14,
   "metadata": {},
   "outputs": [
    {
     "data": {
      "text/plain": [
       "'c:\\\\Users\\\\Yogesh Yadav\\\\OneDrive\\\\Desktop\\\\DS\\\\Python Learnings\\\\Virat'"
      ]
     },
     "execution_count": 14,
     "metadata": {},
     "output_type": "execute_result"
    }
   ],
   "source": [
    "import os\n",
    "os.getcwd()"
   ]
  },
  {
   "cell_type": "code",
   "execution_count": 15,
   "metadata": {},
   "outputs": [
    {
     "name": "stdout",
     "output_type": "stream",
     "text": [
      "Already Exist\n"
     ]
    },
    {
     "ename": "NameError",
     "evalue": "name 'image' is not defined",
     "output_type": "error",
     "traceback": [
      "\u001b[1;31m---------------------------------------------------------------------------\u001b[0m",
      "\u001b[1;31mNameError\u001b[0m                                 Traceback (most recent call last)",
      "Cell \u001b[1;32mIn[15], line 17\u001b[0m\n\u001b[0;32m     15\u001b[0m \u001b[39melse\u001b[39;00m:\n\u001b[0;32m     16\u001b[0m     image\u001b[39m=\u001b[39mimg_src\n\u001b[1;32m---> 17\u001b[0m \u001b[39mprint\u001b[39m(image) \n\u001b[0;32m     18\u001b[0m s\u001b[39m.\u001b[39madd(image)  \n\u001b[0;32m     19\u001b[0m c\u001b[39m+\u001b[39m\u001b[39m=\u001b[39m\u001b[39m1\u001b[39m\n",
      "\u001b[1;31mNameError\u001b[0m: name 'image' is not defined"
     ]
    }
   ],
   "source": [
    "c=0\n",
    "s=set()\n",
    "path='c:\\\\Users\\\\Yogesh Yadav\\\\OneDrive\\\\Desktop\\\\DS\\\\Python Learnings'\n",
    "try:\n",
    "    os.makedirs(path+'\\\\Virat')\n",
    "except:\n",
    "    print('Already Exist')    \n",
    "os.chdir(str(path+'\\\\Virat'))\n",
    "\n",
    "for i in soup.find_all('a'):\n",
    "    for j in i.find_all('img'):\n",
    "        img_src=j.get('src')    \n",
    "        if img_src[:1]=='/':\n",
    "            pass\n",
    "        else:\n",
    "            image=img_src\n",
    "        print(image) \n",
    "        s.add(image)  \n",
    "        c+=1\n",
    "        if c>2:\n",
    "            break"
   ]
  },
  {
   "cell_type": "code",
   "execution_count": null,
   "metadata": {},
   "outputs": [
    {
     "data": {
      "text/plain": [
       "20"
      ]
     },
     "execution_count": 65,
     "metadata": {},
     "output_type": "execute_result"
    }
   ],
   "source": [
    "len(s)"
   ]
  },
  {
   "cell_type": "code",
   "execution_count": 16,
   "metadata": {},
   "outputs": [
    {
     "name": "stdout",
     "output_type": "stream",
     "text": [
      "1\n"
     ]
    }
   ],
   "source": [
    "print(1)"
   ]
  },
  {
   "cell_type": "code",
   "execution_count": null,
   "metadata": {},
   "outputs": [],
   "source": []
  }
 ],
 "metadata": {
  "kernelspec": {
   "display_name": "base",
   "language": "python",
   "name": "python3"
  },
  "language_info": {
   "codemirror_mode": {
    "name": "ipython",
    "version": 3
   },
   "file_extension": ".py",
   "mimetype": "text/x-python",
   "name": "python",
   "nbconvert_exporter": "python",
   "pygments_lexer": "ipython3",
   "version": "3.9.15"
  },
  "orig_nbformat": 4
 },
 "nbformat": 4,
 "nbformat_minor": 2
}
