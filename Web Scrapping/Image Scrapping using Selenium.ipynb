{
 "cells": [
  {
   "cell_type": "code",
   "execution_count": null,
   "metadata": {},
   "outputs": [],
   "source": [
    "import time\n",
    "import requests\n",
    "import io\n",
    "import hashlib\n",
    "import os\n",
    "from selenium import webdriver\n",
    "import webbrowser\n",
    "import bs4\n",
    "import urllib\n",
    "import os\n",
    "\n",
    "from selenium.webdriver.common.keys import Keys\n",
    "\n",
    "\n",
    "def get_image_url(name):\n",
    "    url = 'https://www.google.com/search?q='\n",
    "    for i in name.strip():\n",
    "        if i.isspace():\n",
    "            b, c = name.split()\n",
    "            name = '+'.join([b, c])\n",
    "        else:\n",
    "            name\n",
    "    link = url + name\n",
    "\n",
    "    r = requests.get(link, {\n",
    "        'user_agent': 'Mozilla/5.0 (Windows NT 10.0; Win64; x64) AppleWebKit/537.36 (KHTML, like Gecko) Chrome/113.0.0.0 Safari/537.36'})\n",
    "    soup = bs4.BeautifulSoup(r.content, 'html.parser')\n",
    "    for i in soup.find_all('a', {'class': 'eZt8xd'}):\n",
    "        if i.text == 'Images':\n",
    "            url = 'https://www.google.com/search?q={}'.format(name) + i.get('href')\n",
    "            return url\n",
    "\n",
    "def download_images(url,length):\n",
    "    webdriver_path = 'C:/Users/Yogesh Yadav/Downloads/chromedriver_win32'\n",
    "    driver = webdriver.Chrome(webdriver_path)\n",
    "    driver.get(url)\n",
    "    images = []\n",
    "    while True:\n",
    "        driver.execute_script('window.scrollTo(0, document.body.scrollHeight);')\n",
    "        time.sleep(2)\n",
    "        thumbnail_results = driver.find_elements(\"css selector\", \"img[class ='rg_i Q4LuWd']\")\n",
    "        for img in thumbnail_results:\n",
    "            if img.get_attribute('src') and 'http' in img.get_attribute('src'):\n",
    "                images.append(img.get_attribute('src'))\n",
    "        if len(images)>length:\n",
    "            break\n",
    "    driver.quit()\n",
    "    return images\n",
    "\n",
    "def save_images(images,name):\n",
    "    c = 0\n",
    "    s = set()\n",
    "    path = 'c:\\\\Users\\\\Yogesh Yadav\\\\OneDrive\\\\Desktop\\\\DS\\\\Python Learnings'\n",
    "    try:\n",
    "        os.makedirs(path + '\\\\'+name)\n",
    "    except:\n",
    "        print('Already Exist')\n",
    "    os.chdir(str(path + '\\\\'+name))\n",
    "\n",
    "    for i in images:\n",
    "\n",
    "        if i[:1] == '/':\n",
    "            pass\n",
    "        else:\n",
    "            img = i\n",
    "        with open(str(c) + '.jpg', 'wb') as f:\n",
    "            f.write(urllib.request.urlopen(img).read())\n",
    "            f.close()\n",
    "        c += 1\n",
    "\n",
    "\n",
    "if __name__=='__main__':\n",
    "    name='Roger Federar'\n",
    "    url=get_image_url(name)\n",
    "    images=download_images(url,65)\n",
    "    save_images(images, name)\n",
    "\n",
    "\n"
   ]
  },
  {
   "cell_type": "code",
   "execution_count": null,
   "metadata": {},
   "outputs": [],
   "source": [
    "webdriver_path = 'C:/Users/Yogesh Yadav/Downloads/chromedriver_win32'"
   ]
  },
  {
   "attachments": {},
   "cell_type": "markdown",
   "metadata": {},
   "source": [
    "# Getting image links via Selenium without scroll"
   ]
  },
  {
   "cell_type": "code",
   "execution_count": 37,
   "metadata": {},
   "outputs": [],
   "source": [
    "import time\n",
    "import requests \n",
    "import io\n",
    "import hashlib\n",
    "import os\n",
    "from selenium import webdriver\n",
    "\n",
    "from selenium.webdriver.common.keys import Keys\n",
    "\n",
    "\n",
    "def fetch_image_urls_util(url,driver_path):\n",
    "    images = []\n",
    "    # Open main window with URL A\n",
    "    with webdriver.Chrome(driver_path) as wd:\n",
    "\n",
    "        # Switch to the new window and open URL B\n",
    "        try:\n",
    "            wd.get(url)\n",
    "        except:\n",
    "            return []\n",
    "\n",
    "        thumbnail_results = wd.find_elements(\"css selector\", \"img[class ='rg_i Q4LuWd']\")\n",
    "\n",
    "        time.sleep(2)\n",
    "\n",
    "        for img in thumbnail_results:\n",
    "            if img.get_attribute('src') and 'http' in img.get_attribute('src'):\n",
    "                images.append(img.get_attribute('src'))\n",
    "\n",
    "        if len(images)==50:\n",
    "            driver.quit()        \n",
    "\n",
    "    return images"
   ]
  },
  {
   "cell_type": "code",
   "execution_count": 38,
   "metadata": {},
   "outputs": [
    {
     "name": "stderr",
     "output_type": "stream",
     "text": [
      "C:\\Users\\Yogesh Yadav\\AppData\\Local\\Temp\\ipykernel_15712\\3342485498.py:14: DeprecationWarning: executable_path has been deprecated, please pass in a Service object\n",
      "  with webdriver.Chrome(driver_path) as wd:\n"
     ]
    }
   ],
   "source": [
    "thumb=fetch_image_urls_util('https://www.google.com/search?q=virat&tbm=isch&ved=2ahUKEwjSqomqupn_AhUGjtgFHTLwCowQ2-cCegQIABAA&oq=virat&gs_lcp=CgNpbWcQA1CVCFieDmCAFGgAcAB4AYABAIgBAJIBAJgBAKABAaoBC2d3cy13aXotaW1nwAEB&sclient=img&ei=gAp0ZNLqKoac4t4PsuCr4Ag&bih=842&biw=1536&rlz=1C1ONGR_enIN1022IN1022','C:/Users/Yogesh Yadav/Downloads/chromedriver_win32')"
   ]
  },
  {
   "cell_type": "code",
   "execution_count": 39,
   "metadata": {},
   "outputs": [
    {
     "data": {
      "text/plain": [
       "['https://encrypted-tbn0.gstatic.com/images?q=tbn:ANd9GcQkV8GDhWbkRsd0GVEQS7ORUiRRDVUN2nGfhQ&usqp=CAU',\n",
       " 'https://encrypted-tbn0.gstatic.com/images?q=tbn:ANd9GcSofBY_9vOvr5aBtv_ug4wJsLLg3_W296YKDA&usqp=CAU',\n",
       " 'https://encrypted-tbn0.gstatic.com/images?q=tbn:ANd9GcT5Xd1MjNmBYBFy3lmxS5kapwbiJf0Q5MSCIg&usqp=CAU',\n",
       " 'https://encrypted-tbn0.gstatic.com/images?q=tbn:ANd9GcTHUk2w9jdvFep1h62BuUpNeFqw04Sr-ANVgQ&usqp=CAU',\n",
       " 'https://encrypted-tbn0.gstatic.com/images?q=tbn:ANd9GcTIvGFBjXKMZ_rFDu3d65SlV6UqVinJ4jua-Q&usqp=CAU',\n",
       " 'https://encrypted-tbn0.gstatic.com/images?q=tbn:ANd9GcTnGMmsp31JpJQTOmTtlMVkpSl3EWTX54eENg&usqp=CAU',\n",
       " 'https://encrypted-tbn0.gstatic.com/images?q=tbn:ANd9GcTWtbpeF3lUB3Jhmm8lH1W0Vq42vtWnzUqfRA&usqp=CAU']"
      ]
     },
     "execution_count": 39,
     "metadata": {},
     "output_type": "execute_result"
    }
   ],
   "source": [
    "thumb"
   ]
  },
  {
   "attachments": {},
   "cell_type": "markdown",
   "metadata": {},
   "source": [
    "# Getting image links via Selenium with scroll\n"
   ]
  },
  {
   "cell_type": "code",
   "execution_count": 1,
   "metadata": {},
   "outputs": [
    {
     "name": "stderr",
     "output_type": "stream",
     "text": [
      "C:\\Users\\Yogesh Yadav\\AppData\\Local\\Temp\\ipykernel_19148\\2193537830.py:4: DeprecationWarning: executable_path has been deprecated, please pass in a Service object\n",
      "  driver = webdriver.Chrome(webdriver_path)\n"
     ]
    },
    {
     "data": {
      "text/plain": [
       "639"
      ]
     },
     "execution_count": 1,
     "metadata": {},
     "output_type": "execute_result"
    }
   ],
   "source": [
    "from selenium import webdriver\n",
    "import time\n",
    "webdriver_path = 'C:/Users/Yogesh Yadav/Downloads/chromedriver_win32'\n",
    "driver = webdriver.Chrome(webdriver_path)\n",
    "driver.get('https://www.google.com/search?q=virat&tbm=isch&ved=2ahUKEwjSqomqupn_AhUGjtgFHTLwCowQ2-cCegQIABAA&oq=virat&gs_lcp=CgNpbWcQA1CVCFieDmCAFGgAcAB4AYABAIgBAJIBAJgBAKABAaoBC2d3cy13aXotaW1nwAEB&sclient=img&ei=gAp0ZNLqKoac4t4PsuCr4Ag&bih=842&biw=1536&rlz=1C1ONGR_enIN1022IN1022')\n",
    "\n",
    "# search_input = driver.find_element('css selector',\"img[class ='rg_i Q4LuWd']\")\n",
    "# search_input.send_keys('your search query')\n",
    "\n",
    "# search_button = driver.find_element('css selector',\"img[class ='rg_i Q4LuWd']\")\n",
    "# search_button.click()\n",
    "\n",
    "images=[]\n",
    "scroll_times = 5\n",
    "for _ in range(scroll_times):\n",
    "    driver.execute_script('window.scrollTo(0, document.body.scrollHeight);')\n",
    "    time.sleep(2) \n",
    "    thumbnail_results = driver.find_elements(\"css selector\", \"img[class ='rg_i Q4LuWd']\")\n",
    "    for img in thumbnail_results:\n",
    "        if img.get_attribute('src') and 'http' in img.get_attribute('src'):\n",
    "            images.append(img.get_attribute('src'))\n",
    "  \n",
    "\n",
    "driver.quit()\n",
    "len(images)"
   ]
  },
  {
   "attachments": {},
   "cell_type": "markdown",
   "metadata": {},
   "source": [
    "# Savings file to a folder "
   ]
  },
  {
   "cell_type": "code",
   "execution_count": 3,
   "metadata": {},
   "outputs": [
    {
     "name": "stdout",
     "output_type": "stream",
     "text": [
      "Already Exist\n"
     ]
    }
   ],
   "source": [
    "import urllib\n",
    "import os\n",
    "c=0\n",
    "s=set()\n",
    "path='c:\\\\Users\\\\Yogesh Yadav\\\\OneDrive\\\\Desktop\\\\DS\\\\Python Learnings'\n",
    "try:\n",
    "    os.makedirs(path+'\\\\Virat')\n",
    "except:\n",
    "    print('Already Exist')    \n",
    "os.chdir(str(path+'\\\\Virat'))\n",
    "\n",
    "for i in images:\n",
    "\n",
    "    if i[:1]=='/':\n",
    "        pass\n",
    "    else:\n",
    "        img=i\n",
    "    with open(str(c)+'.jpg','wb') as f:\n",
    "        f.write(urllib.request.urlopen(img).read())\n",
    "        f.close()\n",
    "    c+=1        \n",
    "\n"
   ]
  },
  {
   "attachments": {},
   "cell_type": "markdown",
   "metadata": {},
   "source": [
    "## Code to chnage file name "
   ]
  },
  {
   "cell_type": "code",
   "execution_count": 12,
   "metadata": {},
   "outputs": [
    {
     "name": "stdout",
     "output_type": "stream",
     "text": [
      "0\n"
     ]
    }
   ],
   "source": [
    "a=[]\n",
    "b=21\n",
    "for i in os.listdir('c:\\\\Users\\\\Yogesh Yadav\\\\OneDrive\\\\Desktop\\\\DS\\\\Python Learnings\\\\Virat'):\n",
    "    if i.endswith('.jpg'):\n",
    "        pass\n",
    "    else:\n",
    "        os.rename(i,str(b)+'.jpg')\n",
    "        b+=1\n",
    "print(len(a))        \n",
    "    "
   ]
  },
  {
   "cell_type": "code",
   "execution_count": null,
   "metadata": {},
   "outputs": [],
   "source": [
    "from selenium import webdriver\n",
    "import time\n",
    "\n",
    "driver = webdriver.Chrome('path/to/chromedriver')\n",
    "\n",
    "driver.get('https://www.google.com/search?q=virat&tbm=isch&ved=2ahUKEwjSqomqupn_AhUGjtgFHTLwCowQ2-cCegQIABAA&oq=virat&gs_lcp=CgNpbWcQA1CVCFieDmCAFGgAcAB4AYABAIgBAJIBAJgBAKABAaoBC2d3cy13aXotaW1nwAEB&sclient=img&ei=gAp0ZNLqKoac4t4PsuCr4Ag&bih=842&biw=1536&rlz=1C1ONGR_enIN1022IN1022')\n",
    "\n",
    "# search_input = driver.find_element('css selector',\"img[class ='rg_i Q4LuWd']\")\n",
    "# search_input.send_keys('your search query')\n",
    "\n",
    "search_button = driver.find_element('css selector',\"img[class ='rg_i Q4LuWd']\")\n",
    "search_button.click()\n",
    "\n",
    "time.sleep(2)  # Wait for the new images to load\n",
    "\n",
    "# image_elements = driver.find_elements(\"css selector\", \"img[class ='rg_i Q4LuWd']\")\n",
    "# image_urls = [element.get_attribute('src') for element in image_elements]\n",
    "\n",
    "   #   return []\n",
    "images=[]\n",
    "thumbnail_results = driver.find_elements(\"css selector\", \"img[class ='rg_i Q4LuWd']\")\n",
    "\n",
    "time.sleep(10)\n",
    "\n",
    "for img in thumbnail_results:\n",
    "    if img.get_attribute('src') and 'http' in img.get_attribute('src'):\n",
    "        images.append(img.get_attribute('src'))\n",
    "driver.scroll\n",
    "\n",
    "driver.quit()\n",
    "len(images)"
   ]
  },
  {
   "attachments": {},
   "cell_type": "markdown",
   "metadata": {},
   "source": [
    "# Name and Url Link "
   ]
  },
  {
   "cell_type": "code",
   "execution_count": 75,
   "metadata": {},
   "outputs": [
    {
     "data": {
      "text/plain": [
       "'https://www.google.com/search?q=rafeal+Nadal/search?q=rafael+Nadal&ie=UTF-8&source=lnms&tbm=isch&sa=X&ved=0ahUKEwjT-eTP15n_AhUmSfEDHZ4rDtYQ_AUIBygC'"
      ]
     },
     "execution_count": 75,
     "metadata": {},
     "output_type": "execute_result"
    }
   ],
   "source": [
    "import requests\n",
    "import bs4\n",
    "\n",
    "def get_url(name):\n",
    "    url='https://www.google.com/search?q='\n",
    "    for i in name.strip():\n",
    "        if i.isspace():\n",
    "            b,c=name.split()\n",
    "            name='+'.join([b,c])\n",
    "        else:\n",
    "            name  \n",
    "    link=url+name        \n",
    "    return link\n",
    "  \n",
    "\n",
    "def get_image_url(link):\n",
    "    r=requests.get(url,{'user_agent':'Mozilla/5.0 (Windows NT 10.0; Win64; x64) AppleWebKit/537.36 (KHTML, like Gecko) Chrome/113.0.0.0 Safari/537.36'})\n",
    "    soup=bs4.BeautifulSoup(r.content,'html.parser')\n",
    "    for i in soup.find_all('a',{'class':'eZt8xd'}):\n",
    "        if i.text=='Images':\n",
    "            url='https://www.google.com/search?q=rafeal+Nadal'+i.get('href')\n",
    "            return url\n",
    "        \n",
    "link=get_url('rafeal Nadal')        \n",
    "image_url=get_image_url(link)\n",
    "image_url    \n"
   ]
  },
  {
   "cell_type": "code",
   "execution_count": 72,
   "metadata": {},
   "outputs": [
    {
     "name": "stdout",
     "output_type": "stream",
     "text": [
      "https://www.google.com/search?q=rafeal+Nadal/search?q=rafael+Nadal&ie=UTF-8&source=lnms&tbm=isch&sa=X&ved=0ahUKEwiEtbzs1Zn_AhWGQvEDHVtSDcwQ_AUIBygC\n"
     ]
    }
   ],
   "source": [
    "for i in soup.find_all('a',{'class':'eZt8xd'}):\n",
    "    if i.text=='Images':\n",
    "        print('https://www.google.com/search?q=rafeal+Nadal'+i.get('href'))"
   ]
  },
  {
   "cell_type": "code",
   "execution_count": 87,
   "metadata": {},
   "outputs": [
    {
     "data": {
      "text/plain": [
       "'https://www.google.com/search?q=virat+kohli/search?q=virat+kohli&ie=UTF-8&source=lnms&tbm=isch&sa=X&ved=0ahUKEwilm7_O2pn_AhVPSPEDHQJOA0wQ_AUIBygC'"
      ]
     },
     "execution_count": 87,
     "metadata": {},
     "output_type": "execute_result"
    }
   ],
   "source": [
    "def get_image_url(name):\n",
    "    url='https://www.google.com/search?q='\n",
    "    for i in name.strip():\n",
    "        if i.isspace():\n",
    "            b,c=name.split()\n",
    "            name='+'.join([b,c])\n",
    "        else:\n",
    "            name  \n",
    "    link=url+name   \n",
    "\n",
    "    r=requests.get(link,{'user_agent':'Mozilla/5.0 (Windows NT 10.0; Win64; x64) AppleWebKit/537.36 (KHTML, like Gecko) Chrome/113.0.0.0 Safari/537.36'})\n",
    "    soup=bs4.BeautifulSoup(r.content,'html.parser')\n",
    "    for i in soup.find_all('a',{'class':'eZt8xd'}):\n",
    "        if i.text=='Images':\n",
    "            url='https://www.google.com/search?q={}'.format(name)+i.get('href')\n",
    "            return url\n",
    "        \n",
    "\n",
    "get_image_url('virat kohli')\n"
   ]
  }
 ],
 "metadata": {
  "kernelspec": {
   "display_name": "base",
   "language": "python",
   "name": "python3"
  },
  "language_info": {
   "codemirror_mode": {
    "name": "ipython",
    "version": 3
   },
   "file_extension": ".py",
   "mimetype": "text/x-python",
   "name": "python",
   "nbconvert_exporter": "python",
   "pygments_lexer": "ipython3",
   "version": "3.9.15"
  },
  "orig_nbformat": 4
 },
 "nbformat": 4,
 "nbformat_minor": 2
}
