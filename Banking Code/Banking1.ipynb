{
 "cells": [
  {
   "cell_type": "code",
   "execution_count": 2,
   "metadata": {},
   "outputs": [],
   "source": [
    "import pandas as pd\n",
    "import numpy as np \n",
    "import datetime\n",
    "\n",
    "item={}\n",
    "from ipywidgets import interact ,interact_manual  ,interactive\n",
    "import ipywidgets as widgets\n",
    "from ipywidgets import HBox, VBox"
   ]
  },
  {
   "cell_type": "code",
   "execution_count": 3,
   "metadata": {},
   "outputs": [],
   "source": [
    "#global a\n",
    "acc=1899218\n",
    "def accountt(b):\n",
    "    global acc\n",
    "    c=acc+b\n",
    "    acc=acc+1\n",
    "    return c\n",
    "#accountt(1)    "
   ]
  },
  {
   "cell_type": "code",
   "execution_count": 4,
   "metadata": {},
   "outputs": [],
   "source": [
    "def oppen():\n",
    "    \n",
    "    Sno = accountt(1)\n",
    "    \n",
    "    item[Sno] = {}\n",
    "\n",
    "    Name=str(input(\"Enter Name of Customer   : \"))\n",
    "\n",
    "    while (True):\n",
    "        Quantity = float(input(\"Enter Amount  \"))\n",
    "        if Quantity>=100:\n",
    "            break\n",
    "        else:\n",
    "            print('Enter valid Amount')\n",
    "            continue\n",
    "\n",
    "    db = str(input(\"Enter Date of Birth in Numbers (YYYY,MM,DD) \"))\n",
    "\n",
    "    while (True):\n",
    "        pin=str(input('Enter PIN '))\n",
    "        if len(pin)==4:\n",
    "            pin=int(pin)\n",
    "            break\n",
    "        else:\n",
    "            continue\n",
    "\n",
    "    while (True):\n",
    "        pan = str(input('Enter PAN Card'))\n",
    "        if len(pan)==7:\n",
    "            pin=int(pin)\n",
    "            break\n",
    "        else:\n",
    "            continue\n",
    "    address=str(input('Enter Address'))\n",
    "    \n",
    "    item[Sno][\"Name\"]=Name\n",
    "    item[Sno][\"Account Balance\"]=Quantity\n",
    "    item[Sno][\"DoB \"]=db\n",
    "    item[Sno]['PIN']=pin\n",
    "    item[Sno]['PAN']=pan\n",
    "    item[Sno]['Address']=address"
   ]
  },
  {
   "cell_type": "code",
   "execution_count": 5,
   "metadata": {},
   "outputs": [],
   "source": [
    "# def oppen():\n",
    "    \n",
    "#     Sno = int(input(\"Enter the Account No : \"))\n",
    "    \n",
    "#     item[Sno] = {}\n",
    "\n",
    "#     Name=str(input(\"Enter Name of Customer   : \"))\n",
    "\n",
    "#     while (True):\n",
    "#         Quantity = float(input(\"Enter Amount  \"))\n",
    "#         if Quantity>=100:\n",
    "#             break\n",
    "#         else:\n",
    "#             print('Enter valid Amount')\n",
    "#             continue\n",
    "\n",
    "#     db = str(input(\"Enter Date of Birth in Numbers (YYYY,MM,DD) \"))\n",
    "\n",
    "#     while (True):\n",
    "#         pin=str(input('Enter PIN '))\n",
    "#         if len(pin)==4:\n",
    "#             pin=int(pin)\n",
    "#             break\n",
    "#         else:\n",
    "#             continue\n",
    "\n",
    "#     while (True):\n",
    "#         pan = str(input('Enter PAN Card'))\n",
    "#         if len(pan)==7:\n",
    "#             pin=int(pin)\n",
    "#             break\n",
    "#         else:\n",
    "#             continue\n",
    "#     address=str(input('Enter Address'))\n",
    "    \n",
    "#     item[Sno][\"Name\"]=Name\n",
    "#     item[Sno][\"Account Balance\"]=Quantity\n",
    "#     item[Sno][\"DoB \"]=db\n",
    "#     item[Sno]['PIN']=pin\n",
    "#     item[Sno]['PAN']=pan\n",
    "#     item[Sno]['Address']=address"
   ]
  },
  {
   "cell_type": "code",
   "execution_count": 6,
   "metadata": {},
   "outputs": [],
   "source": [
    "oppen()"
   ]
  },
  {
   "cell_type": "code",
   "execution_count": 7,
   "metadata": {},
   "outputs": [],
   "source": [
    "#global data_df\n",
    "def data(item) :\n",
    "    global data_df  \n",
    "    data_df=pd.DataFrame(item).T\n",
    "    data_df.reset_index(inplace=True)\n",
    "    data_df=data_df.rename(columns={'index':'Account_Number'})\n",
    "    data_df['DoB ']=pd.to_datetime(data_df['DoB '])\n",
    "    "
   ]
  },
  {
   "cell_type": "code",
   "execution_count": 8,
   "metadata": {},
   "outputs": [],
   "source": [
    "data(item)"
   ]
  },
  {
   "cell_type": "code",
   "execution_count": 9,
   "metadata": {},
   "outputs": [
    {
     "data": {
      "text/html": [
       "<div>\n",
       "<style scoped>\n",
       "    .dataframe tbody tr th:only-of-type {\n",
       "        vertical-align: middle;\n",
       "    }\n",
       "\n",
       "    .dataframe tbody tr th {\n",
       "        vertical-align: top;\n",
       "    }\n",
       "\n",
       "    .dataframe thead th {\n",
       "        text-align: right;\n",
       "    }\n",
       "</style>\n",
       "<table border=\"1\" class=\"dataframe\">\n",
       "  <thead>\n",
       "    <tr style=\"text-align: right;\">\n",
       "      <th></th>\n",
       "      <th>Account_Number</th>\n",
       "      <th>Account Balance</th>\n",
       "      <th>Address</th>\n",
       "      <th>DoB</th>\n",
       "      <th>Name</th>\n",
       "      <th>PAN</th>\n",
       "      <th>PIN</th>\n",
       "    </tr>\n",
       "  </thead>\n",
       "  <tbody>\n",
       "    <tr>\n",
       "      <th>0</th>\n",
       "      <td>1899219</td>\n",
       "      <td>2000.0</td>\n",
       "      <td>Kherki</td>\n",
       "      <td>1998-03-03</td>\n",
       "      <td>yogesh</td>\n",
       "      <td>APYPY67</td>\n",
       "      <td>1234</td>\n",
       "    </tr>\n",
       "  </tbody>\n",
       "</table>\n",
       "</div>"
      ],
      "text/plain": [
       "   Account_Number Account Balance Address       DoB     Name      PAN   PIN\n",
       "0         1899219          2000.0  Kherki 1998-03-03  yogesh  APYPY67  1234"
      ]
     },
     "execution_count": 9,
     "metadata": {},
     "output_type": "execute_result"
    }
   ],
   "source": [
    "data_df"
   ]
  },
  {
   "cell_type": "code",
   "execution_count": 9,
   "metadata": {},
   "outputs": [
    {
     "data": {
      "application/vnd.jupyter.widget-view+json": {
       "model_id": "5bdbb6fde1e146138ff73391062b018c",
       "version_major": 2,
       "version_minor": 0
      },
      "text/plain": [
       "Image(value=b'\\x89PNG\\r\\n\\x1a\\n\\x00\\x00\\x00\\rIHDR\\x00\\x00\\x0f\\x00\\x00\\x00\\x08p\\x04\\x03\\x00\\x00\\x00b\\x90\\xd6A\\x…"
      ]
     },
     "metadata": {},
     "output_type": "display_data"
    },
    {
     "name": "stdout",
     "output_type": "stream",
     "text": [
      "\n",
      "***************************Welcome to Yogesh Yadav banking *****************************\n",
      "\n",
      "What do you look to do today ?\n",
      "\n",
      "1. Check Balance\n",
      "2. Withdrwal\n",
      "3. Deposit\n",
      "\n",
      "Your Account balance is : 1111.0 \n"
     ]
    }
   ],
   "source": [
    "file = open(\"HDFC.png\", \"rb\")\n",
    "image = file.read()\n",
    "\n",
    "display(widgets.Image(\n",
    "    value=image,\n",
    "    format='png',\n",
    "    width=400,\n",
    "    height=0,\n",
    "    \n",
    "))\n",
    "\n",
    "while (True):\n",
    "\n",
    "    print('\\n***************************Welcome to Yogesh Yadav banking *****************************\\n')\n",
    "\n",
    "    account=int(input('Enter Your Account Number :'))\n",
    "    #pin=int(input('Enter PIN'))\n",
    "\n",
    "    for i in data_df['Account_Number']:\n",
    "        if i == account:\n",
    "            print('What do you look to do today ?\\n\\n1. Check Balance\\n2. Withdrwal\\n3. Deposit')\n",
    "            \n",
    "            choice=int(input('Enter Option : '))\n",
    "            \n",
    "            if choice==1:\n",
    "                print('\\nYour Account balance is : {} '.format(data_df.loc[data_df['Account_Number']==account,'Account Balance'][0]))\n",
    "                break\n",
    "\n",
    "\n",
    "            elif choice==2:\n",
    "                print('\\nYour Account balance is : ')\n",
    "                display(data_df.loc[data_df['Account_Number']==account,'Account Balance'][0])\n",
    "                ans=int(input('\\nEnter Amount you wishes to withdraw:'))\n",
    "                print('\\nYou Entered :',ans)\n",
    "                print('\\n Please collect your cash \\n')\n",
    "                data_df.loc[data_df['Account_Number']==account,'Account Balance']=data_df['Account Balance']-ans\n",
    "                print('\\nYour updated balance  : ',data_df.loc[data_df['Account_Number']==account,'Account Balance'][0])\n",
    "                break\n",
    "\n",
    "\n",
    "            elif choice==3:\n",
    "                print('\\nYour Account balance is : ')\n",
    "                display(data_df.loc[data_df['Account_Number']==account,'Account Balance'][0])\n",
    "                ans=int(input('Enter Amount you wishes to Deposit:'))\n",
    "                print('\\n Please Enter your cash \\n')\n",
    "                print('\\nYou Entered :',ans)\n",
    "                data_df.loc[data_df['Account_Number']==account,'Account Balance']=data_df['Account Balance']+ans\n",
    "                print('\\nYour updated balance  is {}: '.format(data_df.loc[data_df['Account_Number']==account,'Account Balance'][0]))\n",
    "                break\n",
    " \n",
    "        else:\n",
    "            print('**** Sorry for the Inconvenience , Seems like you dont have a bank account with us !!!!!!!!!!!!!!!!!!!!!!!!!\\n')\n",
    "            ac=int(input('1. Press 1 to Open Account \\n2. Press 2 to exit'))\n",
    "            if ac==1:\n",
    "                oppen()\n",
    "                data(item)\n",
    "            else:\n",
    "                print('Have a good day')    \n",
    "\n",
    "    b=str(input('Do you wanna continue?')).lower()\n",
    "    if b=='yes':\n",
    "        continue\n",
    "    else:\n",
    "        break"
   ]
  },
  {
   "cell_type": "code",
   "execution_count": 11,
   "metadata": {},
   "outputs": [],
   "source": [
    "def balance(data_df,account):\n",
    "    bal=data_df.loc[data_df['Account_Number']==account,'Account Balance'][0]\n",
    "    print('\\n Your Balance is :',bal)\n",
    "\n",
    "def withdrawl(data_df,account):\n",
    "    bal=data_df.loc[data_df['Account_Number']==account,'Account Balance'][0]\n",
    "    print('Your Current Balance is ',bal)\n",
    "\n",
    "    print('\\nEnter the number you wishes to withdrwal :') \n",
    "    amount=int(input('Enteer Amount'))\n",
    "    print('\\n Please Collect Cash')\n",
    "    data_df.loc[data_df['Account_Number']==account,'Account Balance']=data_df['Account Balance']-amount\n",
    "    bal=data_df.loc[data_df['Account_Number']==account,'Account Balance'][0]\n",
    "    print('\\n Your updated balance is ',bal)\n",
    "\n",
    "def deposit(data_df,account):\n",
    "    bal=data_df.loc[data_df['Account_Number']==account,'Account Balance'][0]\n",
    "    print('Your Current Balance is ',bal)\n",
    "\n",
    "    print('\\n Enter the number you wishes to Deposit :')\n",
    "    amount=int(input('Enteer Amount'))\n",
    "    print('\\n Please Add Cash')\n",
    "    data_df.loc[data_df['Account_Number']==account,'Account Balance']=data_df['Account Balance']+amount\n",
    "    bal=data_df.loc[data_df['Account_Number']==account,'Account Balance'][0]\n",
    "    print('\\n Your updated balance is ',bal)   \n"
   ]
  },
  {
   "cell_type": "code",
   "execution_count": 10,
   "metadata": {},
   "outputs": [
    {
     "data": {
      "application/vnd.jupyter.widget-view+json": {
       "model_id": "c0dd2c56eb4b4a0cb7b5c73c79997027",
       "version_major": 2,
       "version_minor": 0
      },
      "text/plain": [
       "Image(value=b'\\x89PNG\\r\\n\\x1a\\n\\x00\\x00\\x00\\rIHDR\\x00\\x00\\x0f\\x00\\x00\\x00\\x08p\\x04\\x03\\x00\\x00\\x00b\\x90\\xd6A\\x…"
      ]
     },
     "metadata": {},
     "output_type": "display_data"
    },
    {
     "data": {
      "application/vnd.jupyter.widget-view+json": {
       "model_id": "d7e75f064ba74f0882051f8c037e24cc",
       "version_major": 2,
       "version_minor": 0
      },
      "text/plain": [
       "interactive(children=(RadioButtons(description='Services:', options=('Deposit', 'Withdrawl', 'Balance', 'Open'…"
      ]
     },
     "metadata": {},
     "output_type": "display_data"
    }
   ],
   "source": [
    "file = open(\"HDFC.png\", \"rb\")\n",
    "image = file.read()\n",
    "\n",
    "display(widgets.Image(\n",
    "    value=image,\n",
    "    format='png',\n",
    "    width=400,\n",
    "    height=0,\n",
    "    \n",
    "))\n",
    "\n",
    "def banking(options,account,pin,amount):   \n",
    "    pw=data_df.loc[data_df['Account_Number']==account,'PIN'][0]\n",
    "\n",
    "    if pw == pin:\n",
    " \n",
    "        for i in data_df['Account_Number']:\n",
    "            if i==account :\n",
    "                print('Welcome to banking services ')\n",
    "\n",
    "                if options=='Deposit':\n",
    "                        bal=data_df.loc[data_df['Account_Number']==account,'Account Balance'][0]\n",
    "                        print('Your Current Balance is ',bal)\n",
    "\n",
    "                        print('\\n Enter the number you wishes to Deposit :')\n",
    "                        #amount=int(input('Enteer Amount'))\n",
    "                        print('\\n Please Add Cash')\n",
    "                        data_df.loc[data_df['Account_Number']==account,'Account Balance']=data_df['Account Balance']+amount\n",
    "                        bal=data_df.loc[data_df['Account_Number']==account,'Account Balance'][0]\n",
    "                        print('\\n Your updated balance is ',bal)   \n",
    "                    \n",
    "                    \n",
    "                elif options=='Withdrawl' :\n",
    "                        bal=data_df.loc[data_df['Account_Number']==account,'Account Balance'][0]\n",
    "                        print('Your Current Balance is ',bal)\n",
    "\n",
    "                        print('\\nEnter the number you wishes to withdrwal :') \n",
    "                        #amount=int(input('Enteer Amount'))\n",
    "                        print('\\n Please Collect Cash')\n",
    "                        data_df.loc[data_df['Account_Number']==account,'Account Balance']=data_df['Account Balance']-amount\n",
    "                        bal=data_df.loc[data_df['Account_Number']==account,'Account Balance'][0]\n",
    "                        print('\\n Your updated balance is ',bal)\n",
    "                    \n",
    "                    \n",
    "                elif options=='Balance':\n",
    "                        bal=data_df.loc[data_df['Account_Number']==account,'Account Balance'][0]\n",
    "                        print('Your Current Balance is ',bal)\n",
    "                    \n",
    "                    \n",
    "                elif options=='Open':\n",
    "                    oppen()\n",
    "                    data(item)  \n",
    "\n",
    "            else:\n",
    "                print('**** Sorry for the Inconvenience , Seems like you dont have a bank account with us !!!!!!!!!!!!!!!!!!!!!!!!!\\n')\n",
    "\n",
    "                ac=int(input('1. Press 1 to Open Account \\n2. Press 2 to exit'))\n",
    "                if ac==1:\n",
    "                    oppen()\n",
    "                    data(item)\n",
    "               \n",
    "                else:\n",
    "                    print('Thanks for visiting US') \n",
    "      \n",
    "    else:\n",
    "        print('Wrong Pin Entered \\n Try Again')\n",
    "\n",
    "interact_manual(banking,options= widgets.RadioButtons(options=['Deposit','Withdrawl','Balance','Open'],description='Services:') ,\n",
    "                                                        pin= widgets.IntText(value=int(input('Enter PIN')),description='pin'),\n",
    "                                                        account= widgets.IntText(value=int(input('Enter Account Number')),description='account') ,\n",
    "                                                        amount=widgets.IntText(value= 0,description='amount') );\n"
   ]
  },
  {
   "cell_type": "code",
   "execution_count": 12,
   "metadata": {},
   "outputs": [],
   "source": [
    "# tab=widgets.Tab(children=[pin,account,option]) \n",
    "# f=interactive(banking,option=option,pin=pin,account=account)\n",
    "# tab.children = [HBox(children = f.children)]\n",
    "# display(tab)"
   ]
  },
  {
   "cell_type": "code",
   "execution_count": null,
   "metadata": {},
   "outputs": [],
   "source": [
    "def maxx(a,b):\n",
    "    if a>b:\n",
    "        max=a\n",
    "    else:\n",
    "        max =b\n",
    "    print(max)    \n",
    "maxx(3,2)        "
   ]
  },
  {
   "cell_type": "code",
   "execution_count": 77,
   "metadata": {},
   "outputs": [
    {
     "data": {
      "text/plain": [
       "0     1\n",
       "1     0\n",
       "2     1\n",
       "3     0\n",
       "4     1\n",
       "5     0\n",
       "6     1\n",
       "7     0\n",
       "8     1\n",
       "9     1\n",
       "10    1\n",
       "11    1\n",
       "12    0\n",
       "13    0\n",
       "14    0\n",
       "15    0\n",
       "16    1\n",
       "17    1\n",
       "18    0\n",
       "19    1\n",
       "Name: Gender, dtype: int64"
      ]
     },
     "execution_count": 77,
     "metadata": {},
     "output_type": "execute_result"
    }
   ],
   "source": [
    "import random\n",
    "lis=['Male','Female']\n",
    "l=[]\n",
    "for i in range(20):\n",
    "    l.append(random.choice(lis))\n",
    "\n",
    "ans=pd.DataFrame({'Gender':l\n",
    "})\n",
    "ans\n",
    "ans['Gender'].map({'Male':0,'Female':1})"
   ]
  },
  {
   "cell_type": "code",
   "execution_count": 100,
   "metadata": {},
   "outputs": [
    {
     "name": "stdout",
     "output_type": "stream",
     "text": [
      "3\n"
     ]
    }
   ],
   "source": [
    "# maxx=lambda x ,y : x if x>y else y\n",
    "maxx(2,3)"
   ]
  },
  {
   "cell_type": "code",
   "execution_count": 96,
   "metadata": {},
   "outputs": [
    {
     "data": {
      "text/plain": [
       "[1, 3, 5, 7, 9]"
      ]
     },
     "execution_count": 96,
     "metadata": {},
     "output_type": "execute_result"
    }
   ],
   "source": [
    "lis=[1,2,3,4,5,6,7,8,9,10]\n",
    "list(filter(lambda x :(x%2!=0 ), lis))"
   ]
  }
 ],
 "metadata": {
  "kernelspec": {
   "display_name": "base",
   "language": "python",
   "name": "python3"
  },
  "language_info": {
   "codemirror_mode": {
    "name": "ipython",
    "version": 3
   },
   "file_extension": ".py",
   "mimetype": "text/x-python",
   "name": "python",
   "nbconvert_exporter": "python",
   "pygments_lexer": "ipython3",
   "version": "3.9.15"
  },
  "orig_nbformat": 4,
  "vscode": {
   "interpreter": {
    "hash": "e1c6296f52ff53f77b13761e3f16a7a460b02f275d1e962643af4f3c58b57101"
   }
  }
 },
 "nbformat": 4,
 "nbformat_minor": 2
}
