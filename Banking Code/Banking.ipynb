{
 "cells": [
  {
   "cell_type": "code",
   "execution_count": 41,
   "metadata": {},
   "outputs": [],
   "source": [
    "import pandas as pd\n",
    "import numpy as np \n",
    "import datetime\n",
    "\n",
    "item={}\n",
    "from ipywidgets import interact ,interact_manual  ,interactive\n",
    "import ipywidgets as widgets\n",
    "from ipywidgets import HBox, VBox"
   ]
  },
  {
   "cell_type": "code",
   "execution_count": 44,
   "metadata": {},
   "outputs": [
    {
     "data": {
      "text/plain": [
       "1899219"
      ]
     },
     "execution_count": 44,
     "metadata": {},
     "output_type": "execute_result"
    }
   ],
   "source": [
    "#global a\n",
    "acc=1899218\n",
    "def accountt(b):\n",
    "    global acc\n",
    "    c=acc+b\n",
    "    acc=acc+1\n",
    "    return c\n",
    "accountt(1)    "
   ]
  },
  {
   "cell_type": "code",
   "execution_count": 46,
   "metadata": {},
   "outputs": [],
   "source": [
    "def oppen():\n",
    "    \n",
    "    Sno = accountt(1)\n",
    "    \n",
    "    item[Sno] = {}\n",
    "\n",
    "    Name=str(input(\"Enter Name of Customer   : \"))\n",
    "\n",
    "    while (True):\n",
    "        Quantity = float(input(\"Enter Amount  \"))\n",
    "        if Quantity>=100:\n",
    "            break\n",
    "        else:\n",
    "            print('Enter valid Amount')\n",
    "            continue\n",
    "\n",
    "    db = str(input(\"Enter Date of Birth in Numbers (YYYY,MM,DD) \"))\n",
    "\n",
    "    while (True):\n",
    "        pin=str(input('Enter PIN '))\n",
    "        if len(pin)==4:\n",
    "            pin=int(pin)\n",
    "            break\n",
    "        else:\n",
    "            continue\n",
    "\n",
    "    while (True):\n",
    "        pan = str(input('Enter PAN Card'))\n",
    "        if len(pan)==7:\n",
    "            pin=int(pin)\n",
    "            break\n",
    "        else:\n",
    "            continue\n",
    "    address=str(input('Enter Address'))\n",
    "    \n",
    "    item[Sno][\"Name\"]=Name\n",
    "    item[Sno][\"Account Balance\"]=Quantity\n",
    "    item[Sno][\"DoB \"]=db\n",
    "    item[Sno]['PIN']=pin\n",
    "    item[Sno]['PAN']=pan\n",
    "    item[Sno]['Address']=address"
   ]
  },
  {
   "cell_type": "code",
   "execution_count": 3,
   "metadata": {},
   "outputs": [],
   "source": [
    "# def oppen():\n",
    "    \n",
    "#     Sno = int(input(\"Enter the Account No : \"))\n",
    "    \n",
    "#     item[Sno] = {}\n",
    "\n",
    "#     Name=str(input(\"Enter Name of Customer   : \"))\n",
    "\n",
    "#     while (True):\n",
    "#         Quantity = float(input(\"Enter Amount  \"))\n",
    "#         if Quantity>=100:\n",
    "#             break\n",
    "#         else:\n",
    "#             print('Enter valid Amount')\n",
    "#             continue\n",
    "\n",
    "#     db = str(input(\"Enter Date of Birth in Numbers (YYYY,MM,DD) \"))\n",
    "\n",
    "#     while (True):\n",
    "#         pin=str(input('Enter PIN '))\n",
    "#         if len(pin)==4:\n",
    "#             pin=int(pin)\n",
    "#             break\n",
    "#         else:\n",
    "#             continue\n",
    "\n",
    "#     while (True):\n",
    "#         pan = str(input('Enter PAN Card'))\n",
    "#         if len(pan)==7:\n",
    "#             pin=int(pin)\n",
    "#             break\n",
    "#         else:\n",
    "#             continue\n",
    "#     address=str(input('Enter Address'))\n",
    "    \n",
    "#     item[Sno][\"Name\"]=Name\n",
    "#     item[Sno][\"Account Balance\"]=Quantity\n",
    "#     item[Sno][\"DoB \"]=db\n",
    "#     item[Sno]['PIN']=pin\n",
    "#     item[Sno]['PAN']=pan\n",
    "#     item[Sno]['Address']=address"
   ]
  },
  {
   "cell_type": "code",
   "execution_count": 51,
   "metadata": {},
   "outputs": [],
   "source": [
    "oppen()"
   ]
  },
  {
   "cell_type": "code",
   "execution_count": 48,
   "metadata": {},
   "outputs": [],
   "source": [
    "#global data_df\n",
    "def data(item) :\n",
    "    global data_df  \n",
    "    data_df=pd.DataFrame(item).T\n",
    "    data_df.reset_index(inplace=True)\n",
    "    data_df=data_df.rename(columns={'index':'Account_Number'})\n",
    "    #data_df['DoB']=pd.to_datetime(data_df['DoB'])\n",
    "    "
   ]
  },
  {
   "cell_type": "code",
   "execution_count": 52,
   "metadata": {},
   "outputs": [],
   "source": [
    "data(item)"
   ]
  },
  {
   "cell_type": "code",
   "execution_count": 53,
   "metadata": {},
   "outputs": [
    {
     "data": {
      "text/html": [
       "<div>\n",
       "<style scoped>\n",
       "    .dataframe tbody tr th:only-of-type {\n",
       "        vertical-align: middle;\n",
       "    }\n",
       "\n",
       "    .dataframe tbody tr th {\n",
       "        vertical-align: top;\n",
       "    }\n",
       "\n",
       "    .dataframe thead th {\n",
       "        text-align: right;\n",
       "    }\n",
       "</style>\n",
       "<table border=\"1\" class=\"dataframe\">\n",
       "  <thead>\n",
       "    <tr style=\"text-align: right;\">\n",
       "      <th></th>\n",
       "      <th>Account_Number</th>\n",
       "      <th>Name</th>\n",
       "      <th>Account Balance</th>\n",
       "      <th>DoB</th>\n",
       "      <th>PIN</th>\n",
       "      <th>PAN</th>\n",
       "      <th>Address</th>\n",
       "    </tr>\n",
       "  </thead>\n",
       "  <tbody>\n",
       "    <tr>\n",
       "      <th>0</th>\n",
       "      <td>1899220</td>\n",
       "      <td>Yogesh</td>\n",
       "      <td>1000.0</td>\n",
       "      <td>03-08-1998</td>\n",
       "      <td>7070</td>\n",
       "      <td>APYPY77</td>\n",
       "      <td>Kherki</td>\n",
       "    </tr>\n",
       "    <tr>\n",
       "      <th>1</th>\n",
       "      <td>1899221</td>\n",
       "      <td>Pandya</td>\n",
       "      <td>2222.0</td>\n",
       "      <td>2-2-1999</td>\n",
       "      <td>8888</td>\n",
       "      <td>YGVBB77</td>\n",
       "      <td>Indore</td>\n",
       "    </tr>\n",
       "  </tbody>\n",
       "</table>\n",
       "</div>"
      ],
      "text/plain": [
       "   Account_Number    Name Account Balance        DoB    PIN      PAN Address\n",
       "0         1899220  Yogesh          1000.0  03-08-1998  7070  APYPY77  Kherki\n",
       "1         1899221  Pandya          2222.0    2-2-1999  8888  YGVBB77  Indore"
      ]
     },
     "execution_count": 53,
     "metadata": {},
     "output_type": "execute_result"
    }
   ],
   "source": [
    "data_df"
   ]
  },
  {
   "cell_type": "code",
   "execution_count": 9,
   "metadata": {},
   "outputs": [
    {
     "data": {
      "application/vnd.jupyter.widget-view+json": {
       "model_id": "8d9e7ead9ef841fdaa568ca7dafe06ba",
       "version_major": 2,
       "version_minor": 0
      },
      "text/plain": [
       "Image(value=b'\\x89PNG\\r\\n\\x1a\\n\\x00\\x00\\x00\\rIHDR\\x00\\x00\\x0f\\x00\\x00\\x00\\x08p\\x04\\x03\\x00\\x00\\x00b\\x90\\xd6A\\x…"
      ]
     },
     "metadata": {},
     "output_type": "display_data"
    },
    {
     "name": "stdout",
     "output_type": "stream",
     "text": [
      "***************************Welcome to Yogesh Yadav banking *****************************\n",
      "\n",
      "What do you look to do today ?\n",
      "1. Check Balance\n",
      "2. Withdrwal\n",
      "3. Deposit\n",
      "Your Account balance is : 0    1000.0\n",
      "Name: Account Balance, dtype: object \n"
     ]
    }
   ],
   "source": [
    "file = open(\"HDFC.png\", \"rb\")\n",
    "image = file.read()\n",
    "\n",
    "display(widgets.Image(\n",
    "    value=image,\n",
    "    format='png',\n",
    "    width=400,\n",
    "    height=0,\n",
    "    \n",
    "))\n",
    "\n",
    "while (True):\n",
    "\n",
    "    print('***************************Welcome to Yogesh Yadav banking *****************************\\n')\n",
    "\n",
    "    account=int(input('Enter Your Account Number :'))\n",
    "    #pin=int(input('Enter PIN'))\n",
    "\n",
    "    for i in data_df['Account_Number']:\n",
    "        if i == account:\n",
    "            print('What do you look to do today ?\\n1. Check Balance\\n2. Withdrwal\\n3. Deposit')\n",
    "            \n",
    "            choice=int(input('Enter Option : '))\n",
    "            \n",
    "            if choice==1:\n",
    "                print('Your Account balance is : {} '.format(data_df.loc[data_df['Account_Number']==account,'Account Balance']))\n",
    "\n",
    "\n",
    "            elif choice==2:\n",
    "                print('Your Account balance is : ')\n",
    "                display(data_df.loc[data_df['Account_Number']==account,'Account Balance'])\n",
    "                ans=int(input('Enter Amount you wishes to withdraw:'))\n",
    "                print('\\n Please collect your cash \\n')\n",
    "                data_df.loc[data_df['Account_Number']==account,'Account Balance']=data_df['Account Balance']-ans\n",
    "                print('Your updated balance  : ',data_df.loc[data_df['Account_Number']==account,'Account Balance'])\n",
    "\n",
    "\n",
    "            elif choice==3:\n",
    "                print('Your Account balance is : ')\n",
    "                display(data_df.loc[data_df['Account_Number']==account,'Account Balance'])\n",
    "                ans=int(input('Enter Amount you wishes to Deposit:'))\n",
    "                print('\\n Please Enter your cash \\n')\n",
    "                data_df.loc[data_df['Account_Number']==account,'Account Balance']=data_df['Account Balance']+ans\n",
    "                print('Your updated balance  is {}: '.format(data_df.loc[data_df['Account_Number']==account,'Account Balance']))\n",
    " \n",
    "        else:\n",
    "            print('**** Sorry for the Inconvenience , Seems like you dont have a bank account with us !!!!!!!!!!!!!!!!!!!!!!!!!\\n')\n",
    "            ac=int(input('1. Press 1 to Open Account \\n2. Press 2 to exit'))\n",
    "            if ac==1:\n",
    "                oppen()\n",
    "                data(item)\n",
    "            else:\n",
    "                print('Thanks for visiting US')  \n",
    "                 \n",
    "\n",
    "    b=str(input('Do you wanna continue?')).lower()\n",
    "    if b=='yes':\n",
    "        continue\n",
    "    else:\n",
    "        break"
   ]
  },
  {
   "cell_type": "code",
   "execution_count": 8,
   "metadata": {},
   "outputs": [],
   "source": [
    "def balance(data_df,account):\n",
    "    bal=data_df.loc[data_df['Account_Number']==account,'Account Balance'][0]\n",
    "    return bal\n",
    "\n",
    "def withdrawl(data_df,account):\n",
    "    bal=data_df.loc[data_df['Account_Number']==account,'Account Balance'][0]\n",
    "    print('Your Current Balance is ',bal)\n",
    "\n",
    "    print('\\n Enter the number you wishes to withdrwal :')\n",
    "    withd=int(input())\n",
    "    print('\\n Please Collect Cash')\n",
    "    data_df.loc[data_df['Account_Number']==account,'Account Balance']=data_df['Account Balance']-ans\n",
    "    bal=data_df.loc[data_df['Account_Number']==account,'Account Balance'][0]\n",
    "    print('\\n Your updated balance is ',bal)\n",
    "\n",
    "def deposit(data_df,account):\n",
    "    bal=data_df.loc[data_df['Account_Number']==account,'Account Balance'][0]\n",
    "    print('Your Current Balance is ',bal)\n",
    "\n",
    "    print('\\n Enter the number you wishes to Deposit :')\n",
    "    withd=int(input())\n",
    "    print('\\n Please Add Cash')\n",
    "    data_df.loc[data_df['Account_Number']==account,'Account Balance']=data_df['Account Balance']+ans\n",
    "    bal=data_df.loc[data_df['Account_Number']==account,'Account Balance'][0]\n",
    "    print('\\n Your updated balance is ',bal)   \n"
   ]
  },
  {
   "cell_type": "code",
   "execution_count": 20,
   "metadata": {},
   "outputs": [
    {
     "data": {
      "application/vnd.jupyter.widget-view+json": {
       "model_id": "915226cd2d324aedb64d136f6387832c",
       "version_major": 2,
       "version_minor": 0
      },
      "text/plain": [
       "Image(value=b'\\x89PNG\\r\\n\\x1a\\n\\x00\\x00\\x00\\rIHDR\\x00\\x00\\x0f\\x00\\x00\\x00\\x08p\\x04\\x03\\x00\\x00\\x00b\\x90\\xd6A\\x…"
      ]
     },
     "metadata": {},
     "output_type": "display_data"
    },
    {
     "data": {
      "application/vnd.jupyter.widget-view+json": {
       "model_id": "6a209ca64acc4b059cdad6c7bcbe253b",
       "version_major": 2,
       "version_minor": 0
      },
      "text/plain": [
       "interactive(children=(RadioButtons(description='Services:', options=('Deposit', 'Withdrawl', 'Balance', 'Open'…"
      ]
     },
     "metadata": {},
     "output_type": "display_data"
    },
    {
     "data": {
      "text/plain": [
       "<function __main__.banking(options, account, pin)>"
      ]
     },
     "execution_count": 20,
     "metadata": {},
     "output_type": "execute_result"
    }
   ],
   "source": [
    "file = open(\"HDFC.png\", \"rb\")\n",
    "image = file.read()\n",
    "\n",
    "display(widgets.Image(\n",
    "    value=image,\n",
    "    format='png',\n",
    "    width=400,\n",
    "    height=0,\n",
    "    \n",
    "))\n",
    "\n",
    "def banking(options,account,pin):   \n",
    "    pw=data_df.loc[data_df['Account_Number']==account,'PIN'][0]\n",
    "    if pw == pin:\n",
    "        print('Welcome')\n",
    "        for i in data_df['Account_Number']:\n",
    "            if i==account :\n",
    "                print('Welcome to banking services ')\n",
    "\n",
    "                if options=='Deposit':\n",
    "                    deposit(data_df,account)\n",
    "                    \n",
    "                    \n",
    "                elif options=='Withdrawl' :\n",
    "                    withdrawl(data_df,account)\n",
    "                    \n",
    "                    \n",
    "                elif options=='Balance':\n",
    "                    balance(data_df,account)\n",
    "                    \n",
    "                    \n",
    "                elif options=='Open':\n",
    "                    oppen()\n",
    "                    data(item)  \n",
    "\n",
    "            else:\n",
    "                print('**** Sorry for the Inconvenience , Seems like you dont have a bank account with us !!!!!!!!!!!!!!!!!!!!!!!!!\\n')\n",
    "\n",
    "                ac=int(input('1. Press 1 to Open Account \\n2. Press 2 to exit'))\n",
    "                if ac==1:\n",
    "                    oppen()\n",
    "                    data(item)\n",
    "               \n",
    "                else:\n",
    "                    print('Thanks for visiting US') \n",
    "      \n",
    "        else:\n",
    "            print('Wrong Pin Entered \\n Try Again')\n",
    "\n",
    "interact_manual(banking,options= widgets.RadioButtons(options=['Deposit','Withdrawl','Balance','Open'],description='Services:') ,\n",
    "                                                        pin= widgets.IntText(value=int(input('Enter PIN')),description='pin'),\n",
    "                                                        account= widgets.IntText(value=int(input('Enter Account Number')),description='account') );\n"
   ]
  },
  {
   "cell_type": "code",
   "execution_count": 60,
   "metadata": {},
   "outputs": [],
   "source": [
    "# tab=widgets.Tab(children=[pin,account,option]) \n",
    "# f=interactive(banking,option=option,pin=pin,account=account)\n",
    "# tab.children = [HBox(children = f.children)]\n",
    "# display(tab)"
   ]
  },
  {
   "cell_type": "code",
   "execution_count": 74,
   "metadata": {},
   "outputs": [
    {
     "data": {
      "text/plain": [
       "7070"
      ]
     },
     "execution_count": 74,
     "metadata": {},
     "output_type": "execute_result"
    }
   ],
   "source": [
    "pw=data_df.loc[data_df['Account_Number']==1,'PIN'][0]\n",
    "pw"
   ]
  },
  {
   "cell_type": "code",
   "execution_count": 21,
   "metadata": {},
   "outputs": [
    {
     "data": {
      "text/html": [
       "<div>\n",
       "<style scoped>\n",
       "    .dataframe tbody tr th:only-of-type {\n",
       "        vertical-align: middle;\n",
       "    }\n",
       "\n",
       "    .dataframe tbody tr th {\n",
       "        vertical-align: top;\n",
       "    }\n",
       "\n",
       "    .dataframe thead th {\n",
       "        text-align: right;\n",
       "    }\n",
       "</style>\n",
       "<table border=\"1\" class=\"dataframe\">\n",
       "  <thead>\n",
       "    <tr style=\"text-align: right;\">\n",
       "      <th></th>\n",
       "      <th>Account_Number</th>\n",
       "      <th>Account Balance</th>\n",
       "      <th>Address</th>\n",
       "      <th>DoB</th>\n",
       "      <th>Name</th>\n",
       "      <th>PAN</th>\n",
       "      <th>PIN</th>\n",
       "    </tr>\n",
       "  </thead>\n",
       "  <tbody>\n",
       "    <tr>\n",
       "      <th>0</th>\n",
       "      <td>1899</td>\n",
       "      <td>1000.0</td>\n",
       "      <td>Kherki</td>\n",
       "      <td>03-08-1998</td>\n",
       "      <td>Yogesh</td>\n",
       "      <td>APYPY77</td>\n",
       "      <td>7070</td>\n",
       "    </tr>\n",
       "  </tbody>\n",
       "</table>\n",
       "</div>"
      ],
      "text/plain": [
       "   Account_Number Account Balance Address        DoB     Name      PAN   PIN\n",
       "0            1899          1000.0  Kherki  03-08-1998  Yogesh  APYPY77  7070"
      ]
     },
     "execution_count": 21,
     "metadata": {},
     "output_type": "execute_result"
    }
   ],
   "source": [
    "data_df"
   ]
  },
  {
   "cell_type": "code",
   "execution_count": 80,
   "metadata": {},
   "outputs": [
    {
     "data": {
      "text/plain": [
       "int"
      ]
     },
     "execution_count": 80,
     "metadata": {},
     "output_type": "execute_result"
    }
   ],
   "source": [
    "pin= widgets.IntText(\n",
    "    value=int(input('Enter PIN')),\n",
    "    description='pin')\n",
    "type(pin.value)    "
   ]
  },
  {
   "cell_type": "code",
   "execution_count": 78,
   "metadata": {},
   "outputs": [
    {
     "data": {
      "text/plain": [
       "['Accordion',\n",
       " 'AppLayout',\n",
       " 'Audio',\n",
       " 'BoundedFloatText',\n",
       " 'BoundedIntText',\n",
       " 'Box',\n",
       " 'Button',\n",
       " 'ButtonStyle',\n",
       " 'CallbackDispatcher',\n",
       " 'Checkbox',\n",
       " 'Color',\n",
       " 'ColorPicker',\n",
       " 'Combobox',\n",
       " 'Controller',\n",
       " 'CoreWidget',\n",
       " 'DOMWidget',\n",
       " 'DatePicker',\n",
       " 'Datetime',\n",
       " 'Dropdown',\n",
       " 'FileUpload',\n",
       " 'FloatLogSlider',\n",
       " 'FloatProgress',\n",
       " 'FloatRangeSlider',\n",
       " 'FloatSlider',\n",
       " 'FloatText',\n",
       " 'GridBox',\n",
       " 'GridspecLayout',\n",
       " 'HBox',\n",
       " 'HTML',\n",
       " 'HTMLMath',\n",
       " 'Image',\n",
       " 'IntProgress',\n",
       " 'IntRangeSlider',\n",
       " 'IntSlider',\n",
       " 'IntText',\n",
       " 'Label',\n",
       " 'Layout',\n",
       " 'NumberFormat',\n",
       " 'Output',\n",
       " 'Password',\n",
       " 'Play',\n",
       " 'RadioButtons',\n",
       " 'Select',\n",
       " 'SelectMultiple',\n",
       " 'SelectionRangeSlider',\n",
       " 'SelectionSlider',\n",
       " 'SliderStyle',\n",
       " 'Style',\n",
       " 'Tab',\n",
       " 'Text',\n",
       " 'Textarea',\n",
       " 'ToggleButton',\n",
       " 'ToggleButtons',\n",
       " 'ToggleButtonsStyle',\n",
       " 'TwoByTwoLayout',\n",
       " 'VBox',\n",
       " 'Valid',\n",
       " 'ValueWidget',\n",
       " 'Video',\n",
       " 'Widget',\n",
       " '__builtins__',\n",
       " '__cached__',\n",
       " '__doc__',\n",
       " '__file__',\n",
       " '__jupyter_widgets_base_version__',\n",
       " '__jupyter_widgets_controls_version__',\n",
       " '__loader__',\n",
       " '__name__',\n",
       " '__package__',\n",
       " '__path__',\n",
       " '__protocol_version__',\n",
       " '__spec__',\n",
       " '__version__',\n",
       " '_handle_ipython',\n",
       " '_version',\n",
       " 'dlink',\n",
       " 'docutils',\n",
       " 'domwidget',\n",
       " 'fixed',\n",
       " 'get_ipython',\n",
       " 'handle_kernel',\n",
       " 'interact',\n",
       " 'interact_manual',\n",
       " 'interaction',\n",
       " 'interactive',\n",
       " 'interactive_output',\n",
       " 'jsdlink',\n",
       " 'jslink',\n",
       " 'link',\n",
       " 'load_ipython_extension',\n",
       " 'os',\n",
       " 'register',\n",
       " 'register_comm_target',\n",
       " 'trait_types',\n",
       " 'util',\n",
       " 'valuewidget',\n",
       " 'version_info',\n",
       " 'widget',\n",
       " 'widget_bool',\n",
       " 'widget_box',\n",
       " 'widget_button',\n",
       " 'widget_color',\n",
       " 'widget_controller',\n",
       " 'widget_core',\n",
       " 'widget_date',\n",
       " 'widget_description',\n",
       " 'widget_float',\n",
       " 'widget_int',\n",
       " 'widget_layout',\n",
       " 'widget_link',\n",
       " 'widget_media',\n",
       " 'widget_output',\n",
       " 'widget_selection',\n",
       " 'widget_selectioncontainer',\n",
       " 'widget_serialization',\n",
       " 'widget_string',\n",
       " 'widget_style',\n",
       " 'widget_templates',\n",
       " 'widget_upload',\n",
       " 'widgets']"
      ]
     },
     "execution_count": 78,
     "metadata": {},
     "output_type": "execute_result"
    }
   ],
   "source": [
    "dir(widgets)"
   ]
  },
  {
   "cell_type": "code",
   "execution_count": null,
   "metadata": {},
   "outputs": [],
   "source": []
  }
 ],
 "metadata": {
  "kernelspec": {
   "display_name": "base",
   "language": "python",
   "name": "python3"
  },
  "language_info": {
   "codemirror_mode": {
    "name": "ipython",
    "version": 3
   },
   "file_extension": ".py",
   "mimetype": "text/x-python",
   "name": "python",
   "nbconvert_exporter": "python",
   "pygments_lexer": "ipython3",
   "version": "3.9.15"
  },
  "orig_nbformat": 4,
  "vscode": {
   "interpreter": {
    "hash": "e1c6296f52ff53f77b13761e3f16a7a460b02f275d1e962643af4f3c58b57101"
   }
  }
 },
 "nbformat": 4,
 "nbformat_minor": 2
}
